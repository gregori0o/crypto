{
  "cells": [
    {
      "cell_type": "markdown",
      "metadata": {
        "id": "O4N_EaD6qK27"
      },
      "source": [
        "# RSA\n",
        "\n",
        "Rivest Shamir Adleman (RSA) jest jednym z pierwszych algorytmów asymetrycznych. Został zaprojektowany w 1977 roku i jest używany do dzisiejszego dnia. Zyskał akceptację zarówno NISTu jak i organizacji ISO/IEC oraz RFC. RSA posiada parę kluczy - publiczny oraz prywatny. Publiczny klucz może być znany każdemu i służy on do operacji szyfrowania. Klucz prywatny jest znany tylko i wyłącznie instancji, która klucze generowała. Ta sama instancja jako jedna jedyna ma możliwość odszyfrowania kryptogramów.\n",
        "\n",
        "RSA umożliwia także tworzenie podpisów cyfrowych (z ang *Digital Signatures*, czyli *DS*). Podpis cyfrowy to dodatkowy blok informacji dołączony do wiadomości, który zapewnia:\n",
        "1. *Integrity* - integralność wiadomości, czyli potwierdzenie, że nie była ona w żaden sposób modyfikowana.\n",
        "2. *Authentication* - autentykacje podpisującego, czyli potwierdzenie jego tożsamości.\n",
        "3. *Non-repudiation* - czyli wysyłający podpisaną wiadomość nie ma możliwości zaprzeczenia faktu, że to on ją podpisał, natomiast otrzymujący wiadomość nie ma możliwości zaprzeczenia faktu, iż to on ją zweryfikował. \n",
        "\n",
        "Samo haszowanie wiadomości zapewnia tylko *integirty*, natomiast utworzenie kodu MAC (*Message Authentiaction Code*) zapewnia jedynie *integrity* oraz *authentiaction*.\n",
        "\n",
        "Tworzenie podpisu cyfrowego z wykorzystaniem RSA wygląda odwrotnie niż komunikacja szyfrowana. To znaczy: podpis tworzony jest z wykorzystaniem klucza prywatnego - a więc tylko instancja generująca klucze może wiadomość podpisać. Weryfikacja odbywa się z wykorzystaniem klucza publicznego - czyli każda instancja, której nasz klucz udostępnimy, może podpis zweryfikować. \n",
        "\n",
        "Na początek zaimportujmy niezbędne biblioteki."
      ]
    },
    {
      "cell_type": "code",
      "execution_count": 1,
      "metadata": {
        "id": "F7OxWY2Mz7BD"
      },
      "outputs": [],
      "source": [
        "import Crypto.Util.number as cu\n",
        "import hashlib as hl\n",
        "import math\n",
        "import random"
      ]
    },
    {
      "cell_type": "markdown",
      "metadata": {
        "id": "64vuvjiEuP3M"
      },
      "source": [
        "**Zadanie 1**\n",
        "\n",
        "Odpowiedz na poniższe pytania. Rozważ sytuację, w której dwie instancje komunikują się ze sobą, a trzecia próbuje dokonywać nieautoryzowanych zmian w treści wiadomości na drodze jej przesyłu.\n",
        "1. Dlaczego haszowanie zapewnia tylko integrity? Podpowiedź: czy haszowanie uwzględnia jakikolwiek klucz prywatny?\n",
        "2. Dlaczego kod MAC nie zapewnia *non-repudiation*? Co (niepożądanego) może dokonać odbierający wiadomość i atakujący komunikację? Podpowiedź: czy kody MAC, w szczególności popularny kod HMAC - który zakłada użycie klucza prywatnego - w jakikolwiek sposób weryfikuje KTO i DO CZEGO go użył? Kto dysponuje, a kto NIE dysponuje kluczem prywatnym HMAC?\n",
        "3. Dlaczego podpis cyfrowy zapewnia wszystkie te trzy cechy?"
      ]
    },
    {
      "cell_type": "markdown",
      "metadata": {
        "id": "2qE7Uzp2xXKM"
      },
      "source": [
        "## Generowanie kluczy\n",
        "\n",
        "Algorytm generowania kluczy RSA może zostać przedstawiony w następujący sposób:\n",
        "\n",
        "1) Znajdź dwie różne i kryptograficznie bezpieczne liczby pierwsze.\n",
        "\n",
        "2) Oblicz $n = p * q$.\n",
        "\n",
        "3) Oblicz $f = (p - 1) * (q - 1)$.\n",
        "\n",
        "4) Znajdź dowolne $e$, takie, że $1 < e < f$ oraz $GCD(f, e) = 1$. GCD to największy wspólny dzielnik. Para $(e, n)$ to jest **klucz publiczny**.\n",
        "\n",
        "5) Oblicz $d = e^{-1}$ mod $f$. Para $(d, n)$ to **klucz prywatny**, przy czym tajne jest tylko $d$. "
      ]
    },
    {
      "cell_type": "markdown",
      "metadata": {
        "id": "1MRcuBhC0UHA"
      },
      "source": [
        "W ten sposób generowane parametry byłyby matematycznie poprawne, lecz kryptograficznie niebezpieczne. Ustalmy więc, że chcemy aby nasz klucz publiczny był odpwowiednio długi. Będzie to długość bitowa parametru $n$, oznaczmy ją jako $nlen = 2048$. Parametr $nlen$ zawsze przyjmuje parzyste wartości. Mając to założenie, musimy (**uwzględniając wszystkie założenia z algorytmu generowania kluczy**) dodatkowo zapewnić, że:\n",
        "\n",
        "1. $65537 ≤ e < 2^{256}$\n",
        "2. $LCM(p - 1, q - 1) \\geq e * 2^{nlen/2}$\n",
        "3. $2^{(nlen - 1)//2} < p < 2^{nlen/2}$\n",
        "4. $2^{(nlen - 1)//2} < q < 2^{nlen/2}$\n",
        "5. $|p - q| > 2^{(nlen/2) - 100}$\n",
        "\n",
        "Gdzie LCM oznacza *Least Common Multiple*, czyli najmniejszą wspólną wielokrotność. Funkcję LCM znajdziesz w bibliotece math. Do potęgowania **nie używaj** pythonowej notacji \"**\", tylko metody pow() - przetestuj obie te metody obliczania potęgi i porównaj wydajność (zadanie opcjonalne). Do obliczania wartości bezwzględnej użyj metody abs() - również standardowa metoda pythona. Resztę niezbędnych metod znajdziesz w bibliotece [Crypto.Util.number](https://pycryptodome.readthedocs.io/en/latest/src/util/util.html) zaimpoertowanej jako cu. Opis powyższych założeń możesz znaleźć w [tym](https://nvlpubs.nist.gov/nistpubs/SpecialPublications/NIST.SP.800-56Br2.pdf) dokumencie NIST-owym."
      ]
    },
    {
      "cell_type": "markdown",
      "metadata": {
        "id": "5inlXTklGGMv"
      },
      "source": [
        "**Zadanie 2**\n",
        "\n",
        "Uwzględniając wszystko powyższe, napisz metodę/metody generujące wartości $n$, $e$ oraz $d$."
      ]
    },
    {
      "cell_type": "code",
      "execution_count": 2,
      "metadata": {},
      "outputs": [
        {
          "name": "stdout",
          "output_type": "stream",
          "text": [
            "1023\n",
            "1024\n"
          ]
        }
      ],
      "source": [
        "nlen = 2048\n",
        "print((nlen-1)//2)\n",
        "print(nlen//2)\n",
        "min_e = 65537\n",
        "max_e = pow(2, 256)"
      ]
    },
    {
      "cell_type": "code",
      "execution_count": 3,
      "metadata": {},
      "outputs": [
        {
          "name": "stdout",
          "output_type": "stream",
          "text": [
            "private_key=(6789397741769217172522081841230759934926720945531779072556611369312534184017431887081231881270071466933436090851565746583330705631847871815429913630257749125767381875250788167800146537057635060044950728260197760741930861152895886663723181265052182670425469097159660075875023582736095874304370357486354006067697699269749777280308990598962480756672225287751862550966308914968907300723803614615197291084576033965260895607215072834140628161132807051699296651477811489976494048249964115193751295851979049474783104139260727165251237378282873965705546819249657902306490193540714720674384726511852492209575089415755600109433, 15820122299734380496180746555811004545804327334399353092446229087343936315791453942389344158529356244343902477641295041379212986382507785506927051467901660543817709804391342677704551077264674284653556704756758182668844586765886998658907279050263986904347364297111307771905760525555554124805714289930426740228465376425744945659052530832978436643859565634311399055036052645622235374298536745013212144212944638360808641766503518147933802763401116442877008800548905192379821719425201355884337209891846580512518895566678774413689390562270502367134065372799384024394208883015411208672574747526513746861728778936063776221569)\n",
            "public_key=(65537, 15820122299734380496180746555811004545804327334399353092446229087343936315791453942389344158529356244343902477641295041379212986382507785506927051467901660543817709804391342677704551077264674284653556704756758182668844586765886998658907279050263986904347364297111307771905760525555554124805714289930426740228465376425744945659052530832978436643859565634311399055036052645622235374298536745013212144212944638360808641766503518147933802763401116442877008800548905192379821719425201355884337209891846580512518895566678774413689390562270502367134065372799384024394208883015411208672574747526513746861728778936063776221569)\n"
          ]
        }
      ],
      "source": [
        "def generate_numbers():\n",
        "    def generate_e():\n",
        "        return 65537\n",
        "        # return random.randint(min_e, max_e)\n",
        "    def check_diff(p, q):\n",
        "        return abs(p - q) > pow(2, nlen//2 - 100)\n",
        "    p = cu.getPrime(nlen//2)\n",
        "    q = cu.getPrime(nlen//2)\n",
        "    while not check_diff(p, q):\n",
        "        p = cu.getPrime(nlen//2)\n",
        "        q = cu.getPrime(nlen//2)\n",
        "    f = (p - 1) * (q - 1)\n",
        "    e = generate_e()\n",
        "    while not math.gcd(f, e) == 1:\n",
        "        e = generate_e()\n",
        "    return p, q, f, e\n",
        "\n",
        "p, q, f, e = generate_numbers()\n",
        "while math.lcm(p - 1, q - 1) < e * pow(2, nlen // 2):\n",
        "    p, q, f, e = generate_numbers()\n",
        "\n",
        "n = p * q\n",
        "d = cu.inverse(e, f)\n",
        "\n",
        "private_key = (d, n)\n",
        "public_key = (e, n)\n",
        "\n",
        "print(f\"{private_key=}\")\n",
        "print(f\"{public_key=}\")"
      ]
    },
    {
      "cell_type": "markdown",
      "metadata": {
        "id": "wae-whoNGlz_"
      },
      "source": [
        "## Naiwne szyfrowanie i deszyfrowanie"
      ]
    },
    {
      "cell_type": "markdown",
      "metadata": {
        "id": "fESNrzCYNVfy"
      },
      "source": [
        "\n",
        "Naiwny algorytm szyfrowania wiadomości **M** z wykorzystaniem RSA:\n",
        "\n",
        "1) Zakoduj $M$ jako liczbę.\n",
        "\n",
        "2) Oblicz: $C = M^e$ mod $n$."
      ]
    },
    {
      "cell_type": "markdown",
      "metadata": {
        "id": "FQvVgWWrHBX2"
      },
      "source": [
        "Naiwny algorytm deszyfrowania kryptogramu **C** z wykorzystaniem RSA:\n",
        "\n",
        "1) $M = C^d$ mod $n$.\n",
        "\n",
        "2) Zdekoduj wiadomość $M$ do jej pierwotnej postaci (np. stringa). \n"
      ]
    },
    {
      "attachments": {},
      "cell_type": "markdown",
      "metadata": {},
      "source": [
        "Czym to M jest i jakie ma być?"
      ]
    },
    {
      "cell_type": "markdown",
      "metadata": {
        "id": "mFRFP0BsHc9l"
      },
      "source": [
        "**Zadanie 3**\n",
        "\n",
        "Napisz metody szyfrujące i deszyfrujące wiadomość $M$ zgodnie z powyższym algorytmem. Zaszyfruj wiadomość, zdeszyfruj i wypisz oryginalny tekst na ekranie. Odpowiedz na pytanie: jaki warunek musi spełniać liczbowa reprezentacja wiadomości $M$, aby można ją było poprawnie zaszyfrować i zdeszyfrować?"
      ]
    },
    {
      "cell_type": "code",
      "execution_count": 4,
      "metadata": {},
      "outputs": [],
      "source": [
        "def text_to_int(text):\n",
        "    num = 0\n",
        "    for letter in text:\n",
        "        n = ord(letter)\n",
        "        num *= 256\n",
        "        num += n\n",
        "    return num\n",
        "\n",
        "def int_to_text(num):\n",
        "    res = \"\"\n",
        "    while num > 0:\n",
        "        q = num % 256\n",
        "        res += chr(q)\n",
        "        num //= 256\n",
        "    return res[::-1]\n"
      ]
    },
    {
      "cell_type": "code",
      "execution_count": 5,
      "metadata": {
        "id": "N3y7NMf_HkuB"
      },
      "outputs": [],
      "source": [
        "def encrypt(M, public_key):\n",
        "    num = text_to_int(M)\n",
        "    C = pow(num, public_key[0], public_key[1])\n",
        "    return C\n",
        "\n",
        "def decrypt(C, private_key):\n",
        "    num = pow(C, private_key[0], private_key[1])\n",
        "    M = int_to_text(num)\n",
        "    return M"
      ]
    },
    {
      "cell_type": "code",
      "execution_count": 6,
      "metadata": {},
      "outputs": [
        {
          "name": "stdout",
          "output_type": "stream",
          "text": [
            "ç¸\u0012\u000fräåLðJBE²À§¡äB¸)\u000fµ»VµgD'%)ü ÛB2çCÎXl­ôJ°¶\u0003Êñà»Q\fó\u0017ª1'§÷Ôevk@xå\u0017rcÔ1:Úd\u0012AØ7+\u0007\u0014Ì'»7tvNEsÖEU9céÆ{Éf`y³\u0012Æ\n",
            "Ñò`\f\u0010ëOpªbN$v#'ªbA.i}p5¡Ä¦æâ-\u0010/Æ¾º\u0007ó}N»\u001d\u0007çJâ0o\u0013Ò.Â\u0014òËû\n",
            "\n",
            "Ala ma kota\n"
          ]
        }
      ],
      "source": [
        "M = \"Ala ma kota\"\n",
        "\n",
        "C = encrypt(M, public_key)\n",
        "encrypted = int_to_text(C)\n",
        "decrypted = decrypt(C, private_key)\n",
        "\n",
        "print(encrypted)\n",
        "print()\n",
        "print(decrypted)"
      ]
    },
    {
      "cell_type": "markdown",
      "metadata": {
        "id": "NjF8Fr_dN0s6"
      },
      "source": [
        "## Naiwny schemat podpisu cyfrowego"
      ]
    },
    {
      "cell_type": "markdown",
      "metadata": {
        "id": "AsvkSf9zN4i8"
      },
      "source": [
        "Naiwna metoda tworzenia podpisu z wiadmości $M$:\n",
        "\n",
        "1) Oblicz $h = H(M)$. H to uzgodniona funkcja skrótu, niech to będzie SHA-256.\n",
        "\n",
        "2) Zakoduj $h$ jako liczbę.\n",
        "\n",
        "3) Oblicz $SIG = h^d$ mod $n$.\n",
        "\n",
        "4) Wyślij parę $(M, SIG)$ weryfikującemu."
      ]
    },
    {
      "cell_type": "markdown",
      "metadata": {
        "id": "xcMiT4DhOoOt"
      },
      "source": [
        "Naiwna metoda weryfikacji podpisu $(M, SIG)$:\n",
        "\n",
        "1) Oblicz $h = H(M)$. H to uzgodniona funkcja skrótu, niech to będzie SHA-256.\n",
        "\n",
        "2) Zakoduj $h$ jako liczbę.\n",
        "\n",
        "3) Oblicz $VER = SIG^e$ mod $n$.\n",
        "\n",
        "4) Jeżeli $VER = h$, weryfikacja przebiegła pomyślnie, a w przeciwnym razie niepomyślnie."
      ]
    },
    {
      "cell_type": "markdown",
      "metadata": {
        "id": "Jx86zFg6PDDs"
      },
      "source": [
        "**Zadanie 4**\n",
        "\n",
        "Zaimplementuj naiwną metodę tworzenia i weryfikowania podpisu cyfrowego RSA."
      ]
    },
    {
      "cell_type": "code",
      "execution_count": 7,
      "metadata": {
        "id": "Y7OSfmf0PJ2Q"
      },
      "outputs": [],
      "source": [
        "def generate_SIG(M):\n",
        "    h = hl.sha256(M.encode(\"utf-8\")).hexdigest()\n",
        "    SIG = encrypt(h, private_key)\n",
        "    return (M, SIG)\n",
        "\n",
        "def verify_SIG(SIG):\n",
        "    h = hl.sha256(SIG[0].encode(\"utf-8\")).hexdigest()\n",
        "    VER = decrypt(SIG[1], public_key)\n",
        "    return VER == h"
      ]
    },
    {
      "cell_type": "code",
      "execution_count": 8,
      "metadata": {},
      "outputs": [
        {
          "data": {
            "text/plain": [
              "True"
            ]
          },
          "execution_count": 8,
          "metadata": {},
          "output_type": "execute_result"
        }
      ],
      "source": [
        "sig = generate_SIG(M)\n",
        "verify_SIG(sig)"
      ]
    },
    {
      "cell_type": "code",
      "execution_count": 9,
      "metadata": {},
      "outputs": [
        {
          "data": {
            "text/plain": [
              "False"
            ]
          },
          "execution_count": 9,
          "metadata": {},
          "output_type": "execute_result"
        }
      ],
      "source": [
        "sig = generate_SIG(M)\n",
        "sig = (\"Ala nie ma kota\", sig[1])\n",
        "verify_SIG(sig)"
      ]
    },
    {
      "cell_type": "markdown",
      "metadata": {
        "id": "-6MsXDuaIj2C"
      },
      "source": [
        "## MGF 1\n",
        "\n",
        "W dalszej części laboratoriów będziemy potrzebowali generować maskę. Jedynym zatwierdzonym algorytmem który do tego służy jest *Mask Generation Function 1*, opisany w [RFC 8017](https://www.rfc-editor.org/rfc/rfc8017). Jest on stosunkowo prosty. "
      ]
    },
    {
      "cell_type": "markdown",
      "metadata": {
        "id": "wXuwYrpsJzkU"
      },
      "source": [
        "Parametry wejściowe:\n",
        "\n",
        "1) M - bajty wiadomości.\n",
        "\n",
        "2) len - pożądana długość zwórconej maski w bajtach.\n",
        "\n",
        "3) H - wybrana funkcja skrótu, zwracająca $n$ bitowy skrót. Niech to będzie SHA-256. Dla wygody przyjmijmy też, że $hlen = n / 8$ oznacza liczbę bajtów zwracaną przez naszą funkcję skrótu.\n",
        "\n",
        "Wyjściem funkcji są bajty tworzące maskę."
      ]
    },
    {
      "cell_type": "markdown",
      "metadata": {
        "id": "oriQJLCvJ0vM"
      },
      "source": [
        "Algorytm MGF-1:\n",
        "\n",
        "1) Dla 32-biotwego integera $i = 0, ..., ⌈ \\frac{len}{hlen}⌉ - 1$ wykonuj kroki 2 i 3.\n",
        "\n",
        "2) Oblicz tmp = H(M || i). Znak || to konkatenacja i chodzi tu o bajty wiadomości M oraz reprezentację w bajtach 32-bitowego itegera $i$.\n",
        "\n",
        "3) Oblicz output = output || tmp.\n",
        "\n",
        "4) Zwróc $len$ wiodących bajtów zmiennej output."
      ]
    },
    {
      "cell_type": "markdown",
      "metadata": {
        "id": "o-AkA1mHK7cp"
      },
      "source": [
        "**Zadanie 5**\n",
        "\n",
        "Zaprogramuj i przetestuj dla dowolnych wartości funkcję MGF1."
      ]
    },
    {
      "cell_type": "code",
      "execution_count": 10,
      "metadata": {
        "id": "rrBuKJWZLCV9"
      },
      "outputs": [],
      "source": [
        "H = hl.sha256\n",
        "hlen = 256 // 8\n",
        "\n",
        "def mgf1(M, len):\n",
        "    if isinstance(M, str):\n",
        "        M = bytes(M, \"utf-8\")\n",
        "    output = b\"\"\n",
        "    for i in range(math.ceil(len / hlen)):\n",
        "        tmp = H(M + i.to_bytes(4)).digest()\n",
        "        output = output + tmp\n",
        "    return output[:len]"
      ]
    },
    {
      "cell_type": "code",
      "execution_count": 11,
      "metadata": {},
      "outputs": [
        {
          "data": {
            "text/plain": [
              "b'\\xdf?a\\x98\\x04\\xa9/\\xdb@W\\x19-\\xc4=\\xd7H\\xeaw\\x8a\\xdc'"
            ]
          },
          "execution_count": 11,
          "metadata": {},
          "output_type": "execute_result"
        }
      ],
      "source": [
        "mgf1(\"\", 20)"
      ]
    },
    {
      "cell_type": "code",
      "execution_count": 12,
      "metadata": {},
      "outputs": [
        {
          "data": {
            "text/plain": [
              "b'\\xdf?a\\x98\\x04'"
            ]
          },
          "execution_count": 12,
          "metadata": {},
          "output_type": "execute_result"
        }
      ],
      "source": [
        "mgf1(\"\", 5)"
      ]
    },
    {
      "cell_type": "code",
      "execution_count": 13,
      "metadata": {},
      "outputs": [
        {
          "data": {
            "text/plain": [
              "b'aR\\xccR\\xf0\\x89\\xbc7\\x19I\\xf4W\\xc7\\x0f?km58\\xdf'"
            ]
          },
          "execution_count": 13,
          "metadata": {},
          "output_type": "execute_result"
        }
      ],
      "source": [
        "mgf1(b\"Lorem ipsum dolor sit amet, consectetur adipiscing elit.\", 20)"
      ]
    },
    {
      "cell_type": "markdown",
      "metadata": {
        "id": "K3gM9vGyPtna"
      },
      "source": [
        "## OAEP\n",
        "\n",
        "Nasz schemat ma na ten moment jedną sporą wadę, mianowicie rozmiar szyfrowanej wiadomości może być zbyt mały, czyniąc algorytm mniej bezpiecznym. Aby tego uniknąć, używamy algorytmu paddingu opisanego w [RFC 8017](https://www.rfc-editor.org/rfc/rfc8017#section-8), który zwie się *Optimal Assymetric Encryption Padding*."
      ]
    },
    {
      "cell_type": "markdown",
      "metadata": {
        "id": "PFJW4wW5QjjH"
      },
      "source": [
        "### OAEP encoding"
      ]
    },
    {
      "cell_type": "markdown",
      "metadata": {
        "id": "0BTXF8j6Reel"
      },
      "source": [
        "Parametry wejściowe:\n",
        "\n",
        "1) $H$ - funkcja skrótu SHA-256, oraz $hlen$ czyli długość zwracanego skrótu w bajtach.\n",
        "\n",
        "2) $k$ - długość liczby $n$ wyrażona w bajtach.\n",
        "\n",
        "3) $mlen$ - długość wiadomości wyrażona w bajtach.\n",
        "\n",
        "4) $M$ - bajty wiadomości.\n",
        "\n",
        "5) $mgf1$ - Mask Generation Function 1."
      ]
    },
    {
      "cell_type": "markdown",
      "metadata": {
        "id": "YWse9bSFRfmu"
      },
      "source": [
        "Algorytm:\n",
        "\n",
        "1) Jeżeli $mlen > k - 2*hlen - 2$ zwróc błąd.\n",
        "\n",
        "2) Oblicz: $lHash = H(\"\")$.\n",
        "\n",
        "3) Wygeneruj tablicę bajtów $PS$ składającą się z $k - mlen - 2*hlen - 2$ bajtów o wartości 0x00. Rozmiar $PS$ może wynosić 0.\n",
        "\n",
        "4) Oblicz: $DB = lHash || PS || 0x01 || M$. Długość $DB$ powinna wynosić $k - hlen - 1$ bajtów.\n",
        "\n",
        "5) Wygeneruj losową tablicę bajtów $seed$ o rozmiarze $hlen$.\n",
        "\n",
        "6) Oblicz: $dbMask = mgf1(seed, k - hlen - 1)$.\n",
        "\n",
        "7) Oblicz: $maskedDB = DB ⊕ dbMask$.\n",
        "\n",
        "8) Oblicz: $seedMask = mgf1(maskedDB, hlen)$.\n",
        "\n",
        "9) Oblicz: $maskedSeed = seed ⊕ seedMask$.\n",
        "\n",
        "10) Oblicz: $EM = 0x00 || maskedSeed || maskedDB$. Długość $EM$ powinna wynosić $k$.\n",
        "\n",
        "11) Zwróc $EM$."
      ]
    },
    {
      "cell_type": "markdown",
      "metadata": {
        "id": "lwJfZ28SUeKC"
      },
      "source": [
        "### OAEP decoding"
      ]
    },
    {
      "cell_type": "markdown",
      "metadata": {
        "id": "i21JfT9TUlXN"
      },
      "source": [
        "Parametry wejściowe:\n",
        "\n",
        "1) $H$ - funkcja skrótu SHA-256, oraz $hlen$ czyli długość zwracanego skrótu w bajtach.\n",
        "\n",
        "2) $k$ - rozmiar EM wyrażony w bajtach.\n",
        "\n",
        "3) $mgf1$ - Mask Generation Function 1.\n",
        "\n",
        "4) $EM$ - bajty zakodowanej wiadomości."
      ]
    },
    {
      "cell_type": "markdown",
      "metadata": {
        "id": "Toe-FHBzU1n-"
      },
      "source": [
        "Algorytm:\n",
        "\n",
        "1) Rozpakuj tablicę bajtów $EM$. Jej pierwszy bajt (najbardziej znaczący) przypisz do $Y$. Kolejne $hlen$ bajtów przypisz do $maskedSeed$, resztę do $maskedDB$. Czyli $EM = Y || maskedSeed || maskedDB$.\n",
        "\n",
        "2) Oblicz: $lHash = H(\"\")$.\n",
        "\n",
        "3) Oblicz: $seedMask = mgf1(maskedDB, hlen)$.\n",
        "\n",
        "4) Oblicz: $seed = maskedSeed ⊕ seedMask$.\n",
        "\n",
        "5) Oblicz: $dbMask = mgf1(seed, k - hlen - 1)$.\n",
        "\n",
        "6) Oblicz: $DB = maskedDB ⊕ dbMask$.\n",
        "\n",
        "7) Rozpkauj tablicę bakjtów $DB$. Pierwsze (najbardziej znaczące) $hlen$ bajtów przypisz do zmiennej $lHash'$. Następne $k - mlen - 2*hlen - 2$ bajtów do PS. Kolejny pojedynczy bajt powinien wynosić 0x01, jeżeli jest inaczej zwróć błąd i **zakończ działanie**. Resztę bajtów przypsiz do zmiennej $M$. Czyli: $DB = lHash' || PS || 0x01 || M$. \n",
        "\n",
        "8) Jeżeli $Y \\neq 0x00$ zwróć błąd i **zakończ działanie**.\n",
        "\n",
        "9) Jeżeli $lHash \\neq lHash'$ zwróć błąd i **zakończ działanie**.\n",
        "\n",
        "10) Zwróc $M$."
      ]
    },
    {
      "cell_type": "markdown",
      "metadata": {
        "id": "A0yx2wepX4n1"
      },
      "source": [
        "**Zadanie 6**\n",
        "\n",
        "Zaproogramuj kodowanie i dekodowanie OAEP. Zmodyfikuj algorytm szyfrowania RSA, tak, aby przed zaszyfrowaniem wiadomość była paddingowana. Zmodyfikuj algorytm deszyfrowania tak, aby po zdeszyfrowaniu konieczne było wywołanie metody dekodowania OAEP w celu odzyskania wiadomości."
      ]
    },
    {
      "cell_type": "code",
      "execution_count": 14,
      "metadata": {},
      "outputs": [],
      "source": [
        "def xor(n, m):\n",
        "    xored = int.from_bytes(n) ^ int.from_bytes(m)\n",
        "    s = math.ceil(xored.bit_length() / 8)\n",
        "    return xored.to_bytes(s)"
      ]
    },
    {
      "cell_type": "code",
      "execution_count": 15,
      "metadata": {
        "id": "sA1oCpziYT6z"
      },
      "outputs": [],
      "source": [
        "M = \"Ala ma kota\"\n",
        "\n",
        "def oaep_encoding(M, k):\n",
        "    if isinstance(M, str):\n",
        "        M = bytes(M, \"utf-8\")\n",
        "    mlen = len(M)\n",
        "    if mlen > k - 2 * hlen - 2:\n",
        "        raise ValueError(\"Message is too long.\")\n",
        "    lHash = H(b\"\").digest()\n",
        "    PS = b'\\x00' * (k - mlen - 2 * hlen - 2)\n",
        "    DB = lHash + PS + b'\\x01' + M\n",
        "    assert len(DB) == k - hlen - 1\n",
        "    seed = b''.join([random.randint(0, 255).to_bytes(1) for _ in range(hlen)])\n",
        "    dbMask = mgf1(seed, k - hlen - 1)\n",
        "    maskedDB = xor(DB, dbMask)\n",
        "    seedMask = mgf1(maskedDB, hlen)\n",
        "    maskedSeed = int.from_bytes(seed) ^ int.from_bytes(seedMask)\n",
        "    s = math.ceil(maskedSeed.bit_length() / 8)\n",
        "    maskedSeed = maskedSeed.to_bytes(s)\n",
        "    EM = b'\\x00' + maskedSeed + maskedDB\n",
        "    assert len(EM) == k\n",
        "    return EM"
      ]
    },
    {
      "cell_type": "code",
      "execution_count": 16,
      "metadata": {},
      "outputs": [],
      "source": [
        "def oaep_decoding(EM, k, mlen=None):\n",
        "    Y = EM[0:1]\n",
        "    maskedSeed = EM[1:1+hlen]\n",
        "    maskedDB = EM[1+hlen:]\n",
        "    lHash = H(b\"\").digest()\n",
        "    seedMask = mgf1(maskedDB, hlen)\n",
        "    seed = int.from_bytes(maskedSeed) ^ int.from_bytes(seedMask)\n",
        "    s = math.ceil(seed.bit_length() / 8)\n",
        "    seed = seed.to_bytes(s)\n",
        "    dbMask = mgf1(seed, k - hlen - 1)\n",
        "    DB = xor(maskedDB, dbMask)\n",
        "    lHashPrim = DB[:hlen]\n",
        "    assert lHash == lHashPrim\n",
        "    assert Y == b'\\x00'\n",
        "    # PS = DB[hlen:K - mlen - hlen - 2]\n",
        "    # assert DB[K - mlen - hlen - 2:K - mlen - hlen - 1] == b'\\x01'\n",
        "    # M = DB[K - mlen - hlen - 1:]\n",
        "    # return M\n",
        "    M = DB[hlen:]\n",
        "    while M[0:1] == b'\\x00': # remove PS from M\n",
        "        M = M[1:]\n",
        "    assert M[0:1] == b'\\x01'\n",
        "    return M[1:]"
      ]
    },
    {
      "cell_type": "code",
      "execution_count": 17,
      "metadata": {},
      "outputs": [],
      "source": [
        "# mlen = len(bytes(M, \"utf-8\"))\n",
        "\n",
        "# em = oaep_encoding(M, nlen)\n",
        "\n",
        "# message = oaep_decoding(em, nlen, mlen)\n",
        "# print(message.decode(\"utf-8\"))"
      ]
    },
    {
      "cell_type": "code",
      "execution_count": 18,
      "metadata": {},
      "outputs": [
        {
          "name": "stdout",
          "output_type": "stream",
          "text": [
            "Ala ma kota\n"
          ]
        }
      ],
      "source": [
        "em = oaep_encoding(M, nlen)\n",
        "\n",
        "message = oaep_decoding(em, nlen)\n",
        "print(message.decode(\"utf-8\"))"
      ]
    },
    {
      "cell_type": "code",
      "execution_count": 19,
      "metadata": {},
      "outputs": [],
      "source": [
        "def oaep_encrypt(M, public_key):\n",
        "    k = math.ceil(public_key[1].bit_length() / 8)\n",
        "    assert len(M) <= k - hlen  - 2\n",
        "    oaep_M = oaep_encoding(M, k)\n",
        "    num = int.from_bytes(oaep_M)\n",
        "    C = pow(num, public_key[0], public_key[1])\n",
        "    return C\n",
        "\n",
        "def oaep_decrypt(C, private_key):\n",
        "    k = math.ceil(private_key[1].bit_length() / 8)\n",
        "    assert k >= 2 * hlen + 2\n",
        "    num = pow(C, private_key[0], private_key[1])\n",
        "    oaep_EM = num.to_bytes(k)\n",
        "    M = oaep_decoding(oaep_EM, k)\n",
        "    return M"
      ]
    },
    {
      "cell_type": "code",
      "execution_count": 20,
      "metadata": {},
      "outputs": [
        {
          "name": "stdout",
          "output_type": "stream",
          "text": [
            "òvmÔA¤-Gª\u001bróSF?ß\"oF0¼d!¨o85\u0000ì÷Ñ\u0006·¦T\u0016À¡K\u0004b\u00055»J·«×£«¥]âD¾ü\u0014½²LæSþÃÝµ±LQ\u000bbËÊÇ-<HÏ»$Îµ³&¯¦ÉF3i/!Yô)\u0004Ò-lÝèKèêÓ=\u000b¼\u00011Ôâ3àÄ/Ü\u0002Ê=Û¼ÍÆá\u0006àïÔ,äñ\u001e\u001d Oæ×Õ°\u0005\u0006Å#<M~À¶S¡\u0018\u00165\u0007ç­_ú!ÿbBÀ=\u0013J´,·d¡\u000b\u00140ßtì;ÝÑÙä¡bOÓÁàm+O¢\n",
            "\n",
            "Ala ma kota\n"
          ]
        }
      ],
      "source": [
        "M = \"Ala ma kota\"\n",
        "\n",
        "C = oaep_encrypt(M, public_key)\n",
        "encrypted = int_to_text(C)\n",
        "decrypted = oaep_decrypt(C, private_key).decode(\"utf-8\")\n",
        "\n",
        "print(encrypted)\n",
        "print()\n",
        "print(decrypted)"
      ]
    },
    {
      "cell_type": "markdown",
      "metadata": {
        "id": "ug2e_I03YoR1"
      },
      "source": [
        "## EMSA - PSS\n",
        "\n",
        "Utworzenie bezpiecznej sygnatury RSA wymaga zastowania algorytmu *Encoding Method for Signature with Appendix - Probabilistic Signature Scheme* ."
      ]
    },
    {
      "cell_type": "markdown",
      "metadata": {
        "id": "KrWpFTRHZSA7"
      },
      "source": [
        "### EMSA encoding"
      ]
    },
    {
      "cell_type": "markdown",
      "metadata": {
        "id": "bNPN9mqIZT5F"
      },
      "source": [
        "Parametry wejściowe:\n",
        "\n",
        "1) $H$ - funkcja skrótu SHA-256, oraz $hlen$ czyli długość zwracanego skrótu w bajtach.\n",
        "\n",
        "2) $slen$ - długość soli w bajtach, powinna być równa $hlen$.\n",
        "\n",
        "3) $M$ - bajty wiadomości do podpisania.\n",
        "\n",
        "4) $mgf1$ - Mask Generation Function 1.\n",
        "\n",
        "5) $emBits$ - pożądana długość sygnatury w bitach. Jest to najczęściej długość bitowa liczby modulus $n$ pomniejszona o jeden, czyli w naszym przypadku 2047.\n",
        "\n",
        "6) $emlen$ - długość sygnatury w bajtach, równa długości parametru $n$ wyrażonego w bajtach.\n"
      ]
    },
    {
      "cell_type": "markdown",
      "metadata": {
        "id": "6-0Vzuzf_f81"
      },
      "source": [
        "Algorytm:\n",
        "\n",
        "1) Oblicz: $mHash = H(M)$.\n",
        "\n",
        "2) Jeżeli $emlen < hlen + slen + 2$ **zakończ i zwróć błąd**.\n",
        "\n",
        "3) Wygeneruj tablicę losowych bajtów $salt$ o długości $slen$.\n",
        "\n",
        "4) Oblicz: $M' = 0x00 00 00 00 00 00 00 00 || mHash || salt$. Długość $M'$ to $8 + hlen + slen$.\n",
        "\n",
        "5) Oblicz: $mHash' = H(M')$.\n",
        "\n",
        "6) Wygeneruj tablicę $PS$ składającą się z bajtów 0x00 o długości $emlen - slen - hlen - 2$.\n",
        "\n",
        "7) Oblicz: $DB = PS || 0x01 || salt$. Długość $DB$ powinna wynosić $emlen - hlen - 1$ bajtów.\n",
        "\n",
        "8) Oblicz: $dbMask = mgf1(mHash', emlen - hlen - 1)$.\n",
        "\n",
        "9) Oblicz: $maskedDB = DB ⊕ dbMask$.\n",
        "\n",
        "10) Ustaw $8 * emlen - emBits$ **najbardziej znaczących** bitów $maskedDB$ na wartości 0.\n",
        "\n",
        "11) Oblicz: $EM = maskedDB || mHash' || 0xbc$.\n",
        "\n",
        "12) Zwróć $EM$.\n"
      ]
    },
    {
      "cell_type": "markdown",
      "metadata": {
        "id": "HWbbbw1DCGpr"
      },
      "source": [
        "## EMSA decoding"
      ]
    },
    {
      "cell_type": "markdown",
      "metadata": {
        "id": "xR6QyzduCIoc"
      },
      "source": [
        "Parametry wejściowe:\n",
        "\n",
        "1) $H$ - funkcja skrótu SHA-256, oraz $hlen$ czyli długość zwracanego skrótu w bajtach.\n",
        "\n",
        "2) $slen$ - długość soli w bajtach, powinna być równa $hlen$.\n",
        "\n",
        "3) $EM$ - sygnatura wiadomości $M$.\n",
        "\n",
        "4) $M$ - bajty wiadomości do weryfikacji.\n",
        "\n",
        "4) $mgf1$ - Mask Generation Function 1.\n",
        "\n",
        "5) $emBits$ - długość sygnatury w bitach. Jest to najczęściej długość bitowa liczby modulus $n$ pomniejszona o jeden, czyli w naszym przypadku 2047.\n",
        "\n",
        "6) $emlen$ - długość sygnatury w bajtach, równa długości parametru $n$ wyrażonego w bajtach."
      ]
    },
    {
      "cell_type": "markdown",
      "metadata": {
        "id": "MqZUQgT6CspI"
      },
      "source": [
        "Algorytm:\n",
        "\n",
        "1) Oblicz: $mHash = H(M)$.\n",
        "\n",
        "2) Jeżeli $emlen < hlen + slen + 2$ **zakończ i zwróć błąd weryfikacji**.\n",
        "\n",
        "3) Jeżeli ostatni bajt (najmniej znaczący) $EM$ nie ma wartości 0xbc **zakończ i zwróć błąd weryfikacji**.\n",
        "\n",
        "4) Podstaw $emlen - hlen - 1$ najbardziej znaczących bajtów do $maskedDB$ oraz kolejne $hlen$ bajtów do $mHash'$.\n",
        "\n",
        "5) Jeżeli $8 * emlen - emBits$ najbardziej znaczących bitów $maskedDB$ nie ma wartości 0, **zakończ i zwróć błąd weryfikacji**.\n",
        "\n",
        "6) Oblicz: $dbMask = mgf1(mHash', emlen - hlen - 1)$.\n",
        "\n",
        "7) Oblicz: $DB = maskedDB ⊕ dbMask$.\n",
        "\n",
        "8) Ustaw $8 * emlen - emBits$ najbardziej znaczących bitów $DB$ na 0.\n",
        "\n",
        "9) Jeżeli $emlen - hlen - slen - 2$ najbardziej znaczących bajtów $DB$ nie posiada wartości 0x00 lub gdy bajt na pozycji $emlen - hlen - slen - 1$ (licząc od najbardziej znaczącego) nie posiada wartości 0x01 **zakończ i zwróć błąd weryfikacji**.\n",
        "\n",
        "10) Przypisz do zmiennej $salt$ dokładnie $slen$ najmniej znaczących bajtów $DB$.\n",
        "\n",
        "11) Oblicz: $M' = 0x00 00 00 00 00 00 00 00 || mHash || salt$. Długość $M'$ to $8 + hlen + slen$.\n",
        "\n",
        "12) Oblicz $mHash'' = H(M')$.\n",
        "\n",
        "13) Jeżeli $mHash' \\neq mHash''$ **zakończ i zwróć błąd weryfikacji**, w przeciwnym razie **weryfikacja powiodła się**.\n"
      ]
    },
    {
      "cell_type": "markdown",
      "metadata": {
        "id": "wrxJHSkyIvz5"
      },
      "source": [
        "**Zadanie 7**\n",
        "\n",
        "Zaprogramuj kodowanie i dekodowanie EMSA, a następnie popraw algorytmy tworzenia i weryfikacji podpisu cyfrowego RSA. Tworzenie podpisu powinno wyglądać tak, że wiadomość najpierw jest kodowana z wykorzystaniem EMSA, a później tworzony jest popdis z wykorzystaniem klucza prywatnego. Dekodowanie powinno wyglądać tak, że najpierw używany jest klucz publiczny do odtworzenia podpisu EMSA, a następnie wykorzystywane jest dekodowanie EMSA w celu weryfikacji."
      ]
    },
    {
      "cell_type": "code",
      "execution_count": 21,
      "metadata": {},
      "outputs": [],
      "source": [
        "def insert_zeros(m, l):\n",
        "    size = len(m)\n",
        "    binary = format(int.from_bytes(m), f'{size*8}b').replace(' ', '0')\n",
        "    binary = '0' * l + binary[l:]\n",
        "    num = int(binary, 2)\n",
        "    return num.to_bytes(size)"
      ]
    },
    {
      "cell_type": "code",
      "execution_count": 22,
      "metadata": {
        "id": "S-TbQA4NJrl3"
      },
      "outputs": [],
      "source": [
        "slen = hlen\n",
        "emBits = nlen - 1\n",
        "emlen = nlen\n",
        "\n",
        "def emsa_encoding(M):\n",
        "    if isinstance(M, str):\n",
        "        M = bytes(M, \"utf-8\")\n",
        "    mHash = H(M).digest()\n",
        "    assert emlen >= hlen + slen + 2\n",
        "    salt = b''.join([random.randint(0, 255).to_bytes(1) for _ in range(slen)])\n",
        "    MPrim = b'\\x00' * 8 + mHash + salt\n",
        "    assert len(MPrim) == 8 + hlen + slen\n",
        "    mHashPrim = H(MPrim).digest()\n",
        "    PS = b'\\x00' * (emlen - slen - hlen - 2)\n",
        "    DB = PS + b'\\x01' + salt\n",
        "    assert len(DB) == emlen - hlen - 1\n",
        "    dbMask = mgf1(mHashPrim, emlen - hlen - 1)\n",
        "    maskedDB = xor(DB, dbMask)\n",
        "    maskedDB = insert_zeros(maskedDB, 8 * emlen - emBits)\n",
        "    EM = maskedDB + mHashPrim + b'\\xbc'\n",
        "    return EM"
      ]
    },
    {
      "cell_type": "code",
      "execution_count": 23,
      "metadata": {},
      "outputs": [],
      "source": [
        "def emsa_decoding(M, EM):\n",
        "    if isinstance(M, str):\n",
        "        M = bytes(M, \"utf-8\")\n",
        "    mHash = H(M).digest()\n",
        "    assert emlen >= hlen + slen + 2\n",
        "    assert EM[-1:] == b'\\xbc'\n",
        "    maskedDB = EM[:emlen - hlen - 1]\n",
        "    mHashPrim = EM[emlen - hlen - 1:emlen - 1]\n",
        "    assert format(int.from_bytes(maskedDB), f'{len(maskedDB)*8}b').replace(' ', '0')[:8 * emlen - emBits] == '0' * (8 * emlen - emBits)\n",
        "    dbMask = mgf1(mHashPrim, emlen - hlen - 1)\n",
        "    DB = xor(maskedDB, dbMask)\n",
        "    DB = insert_zeros(DB, 8 * emlen - emBits)\n",
        "    assert DB[:emlen - hlen - slen - 2] == b'\\x00' * (emlen - hlen - slen - 2)\n",
        "    assert DB[emlen - hlen - slen - 2:emlen - hlen - slen - 1] == b'\\x01'\n",
        "    salt = DB[-slen:]\n",
        "    MPrim = b'\\x00' * 8 + mHash + salt\n",
        "    assert len(MPrim) == 8 + hlen + slen\n",
        "    mHashBis = H(MPrim).digest()\n",
        "    assert mHashPrim == mHashBis\n"
      ]
    },
    {
      "cell_type": "code",
      "execution_count": 24,
      "metadata": {},
      "outputs": [],
      "source": [
        "m = \"Ala ma podpis\"\n",
        "\n",
        "em = emsa_encoding(m)\n",
        "emsa_decoding(m, em)\n"
      ]
    },
    {
      "cell_type": "code",
      "execution_count": 25,
      "metadata": {},
      "outputs": [],
      "source": [
        "def generate_SIG_emsa(M):\n",
        "    em = emsa_encoding(M)\n",
        "    num = int.from_bytes(em)\n",
        "    SIG = pow(num, private_key[0], private_key[1])\n",
        "    return (M, SIG)\n",
        "\n",
        "def verify_SIG_emsa(SIG):\n",
        "    num = pow(SIG[1], public_key[0], public_key[1])\n",
        "    em = num.to_bytes(emlen)\n",
        "    try:\n",
        "        emsa_decoding(SIG[0], em)\n",
        "    except AssertionError:\n",
        "        return False\n",
        "    return True"
      ]
    },
    {
      "cell_type": "code",
      "execution_count": 26,
      "metadata": {},
      "outputs": [
        {
          "data": {
            "text/plain": [
              "True"
            ]
          },
          "execution_count": 26,
          "metadata": {},
          "output_type": "execute_result"
        }
      ],
      "source": [
        "sig = generate_SIG_emsa(m)\n",
        "verify_SIG_emsa(sig)"
      ]
    },
    {
      "cell_type": "code",
      "execution_count": 27,
      "metadata": {},
      "outputs": [
        {
          "data": {
            "text/plain": [
              "False"
            ]
          },
          "execution_count": 27,
          "metadata": {},
          "output_type": "execute_result"
        }
      ],
      "source": [
        "sig = generate_SIG_emsa(m)\n",
        "sig = (\"Ala nie ma podpisu\", sig[1])\n",
        "verify_SIG_emsa(sig)"
      ]
    },
    {
      "cell_type": "markdown",
      "metadata": {
        "id": "d7txLS64JZI-"
      },
      "source": [
        "## RSA - KEM\n",
        "\n",
        "RSA - KEM, czyli z ang. *Key Encapsulation Mechanism* to prosty algorytm dedykowany do wymiany klucza symetrycznego. Obie strony dysponują uzgodnioną funkcją skótu H. Instancja, która chce **otrzymać** tajny klucz do komunikacji symetrycznej generuje klucze RSA i udostępnia swój klucz publiczny. Instancja, która chce wygenerować tajny klucz do komunikacji symetrycznej dysponuje kluczem publicznym instancji, która chce go otrzymać."
      ]
    },
    {
      "cell_type": "markdown",
      "metadata": {
        "id": "tl7cu30PJ1lk"
      },
      "source": [
        "Instancja generująca klucz symetryczny:\n",
        "\n",
        "1) Znajdź losową liczbę $RAND$ spełniającą warunki OAEP.\n",
        "\n",
        "2) Oblicz: $KEY = H(RAND)$. Jeżeli trzeba, przytnij $KEY$ do odpowiedniej długości.\n",
        "\n",
        "3) Oblicz: $CIPHERED\\_KEY = RSA\\_OAEP\\_ENCODING(KEY, (e, n))$.\n",
        "\n",
        "4) Wyślij $CIPHERED\\_KEY$."
      ]
    },
    {
      "cell_type": "markdown",
      "metadata": {
        "id": "oFB9JAwULw70"
      },
      "source": [
        "Instancja otrzymująca zaszyfrowany klucz symetryczny:\n",
        "\n",
        "1) Oblicz: $KEY = RSA\\_OAEP\\_DECODING(CIPHERED\\_KEY, (d, n))$\n",
        "\n",
        "2) Jeżeli trzeba przytnij $KEY$ do odpowiedniej długości."
      ]
    },
    {
      "cell_type": "markdown",
      "metadata": {
        "id": "386c_pDZMSRG"
      },
      "source": [
        "Np. AES występuje w wersji 128b, 192b i 256b. Jeżeli jako H przyjmiemy więc SHA-256, nie trzeba przycinać klucza dla algorytmu AES-256. W przeciwnym razie należy klucz odpowiednio przyciąć (z lewej lub prawej, byle obie strony tak samo) i to ta wartość staje się kluczem symetrycznym."
      ]
    },
    {
      "cell_type": "markdown",
      "metadata": {
        "id": "7N66NPBBMpLS"
      },
      "source": [
        "**Zadanie 8**\n",
        "\n",
        "Zasymuluj takową wymianę (bez przycinania klucza)."
      ]
    },
    {
      "cell_type": "code",
      "execution_count": 28,
      "metadata": {
        "id": "Td_Qg2zlMuRt"
      },
      "outputs": [],
      "source": [
        "def encrypt_key():\n",
        "    r = random.randint(0, 255).to_bytes(1)\n",
        "    key = H(r).digest()\n",
        "    print(key)\n",
        "    ciphered_key = oaep_encrypt(key, public_key)\n",
        "    return ciphered_key, key\n",
        "\n",
        "def decrypt_key(ciphered_key):\n",
        "    key = oaep_decrypt(ciphered_key, private_key)\n",
        "    return key"
      ]
    },
    {
      "cell_type": "code",
      "execution_count": 29,
      "metadata": {},
      "outputs": [
        {
          "name": "stdout",
          "output_type": "stream",
          "text": [
            "b'\\t\\xfc\\x96\\x08-4\\xc2\\xdf\\xc1)]\\x92\\x07;^\\xa1\\xdc\\x8e\\xf8\\xda\\x95\\xf1M\\xfd\\xed\\x01\\x1f\\xfb\\x96\\xd3\\xe5K'\n",
            "b'\\t\\xfc\\x96\\x08-4\\xc2\\xdf\\xc1)]\\x92\\x07;^\\xa1\\xdc\\x8e\\xf8\\xda\\x95\\xf1M\\xfd\\xed\\x01\\x1f\\xfb\\x96\\xd3\\xe5K'\n",
            "Success!\n"
          ]
        }
      ],
      "source": [
        "ciphered_key, real_key = encrypt_key()\n",
        "key = decrypt_key(ciphered_key)\n",
        "\n",
        "print(key)\n",
        "assert real_key == key\n",
        "print(\"Success!\")"
      ]
    }
  ],
  "metadata": {
    "colab": {
      "provenance": []
    },
    "kernelspec": {
      "display_name": "Python 3",
      "name": "python3"
    },
    "language_info": {
      "codemirror_mode": {
        "name": "ipython",
        "version": 3
      },
      "file_extension": ".py",
      "mimetype": "text/x-python",
      "name": "python",
      "nbconvert_exporter": "python",
      "pygments_lexer": "ipython3",
      "version": "3.11.2"
    }
  },
  "nbformat": 4,
  "nbformat_minor": 0
}
