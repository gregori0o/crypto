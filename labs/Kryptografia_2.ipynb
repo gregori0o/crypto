{
  "cells": [
    {
      "cell_type": "markdown",
      "metadata": {
        "id": "JWm1LaUyzsfr"
      },
      "source": [
        "## Advanced Encryption Standard"
      ]
    },
    {
      "cell_type": "markdown",
      "metadata": {
        "id": "9C4RAcms3OlN"
      },
      "source": [
        "### Wstęp\n",
        "\n",
        "AES jest szyfrem symetrycznym blokowym uznanym przez NIST w 2001 roku. Przyjrzyjmy się po kolei co to oznacza:\n",
        "- **symetryczny** oznacza, że jest jeden klucz, który jest tajny. W przypadku AES ma on 128 bitów, 192 lub 256 (zależne od wersji algorytmu). Słóży on do szyfrowania i deszyfrowania wiadomości, a więc musi być znany obu stronom komunikacji. Tu pojawia się pewien problem w koniunkcji słów \"tajny\" oraz \"znany obu stronom\" - bo to oznacza, że trzeba go sobie nawzajem jakoś przekazać. Do tego typu operacji słóży asymetryczna kryptografia, o której pomówimy kiedy indziej,\n",
        "- **blokowy** oznacza, że klucz jest stałej długości, a wiadomość musi zostać podzielona na bloki również o stałej długości. Każdy z tych bloków jest szyfrowany zależnie lub niezależnie od poprzedniego. Jest to możliwe dzięki [trybom operacyjnym szyfrów blokowych](http://www.crypto-it.net/eng/theory/modes-of-block-ciphers.html). Skoro bloki mają być stałej długości, będziemy mieli tutaj także do czynienia z paddingiem, gdyż jest mało prawdopodobne, że rozmiar wiadomości będzie akurat wielokrotnością rozmiaru bloku.\n",
        "\n",
        "Drugą odmianą szyfrów symetrycznych są szyfry strumieniowe, gdzie klucz posiada długość przynajmniej taką samą jak wiadomość, a proces szyfrowania przebiega \"naraz\", ale o tym innym razem.\n",
        "\n",
        "Gdzie AES-a używamy? No między innymi w TLS i SSL. AES *na ten moment* jest uważany za odporny na ataki z wykorzystaniem komputera kwantowego. AES jest szybki (zarówno w implementacjach sfotware'owych jak i hardware'owych, włączając w to 8 bitowe długości słowa) - dlatego znalazł zastosowanie m.in. w szyfrowaniu dużych danych (z ang. *BigData*). Jest także używany do szyfrowania w chmurze na takich platformach jak Google Cloud, AWS czy OneDrive. AES jest do tej pory niezłamany. Innymi słowy: kawał dobrego szyfru.\n",
        "\n",
        "**NOTE:** Do laboratorium dołączam dwa pomocnicze przy debugowaniu pdf-y. Znajdziesz w nich spodziewane wyniki dla przykładowych danych dla każdej funkcji opisanej w dalszej części. "
      ]
    },
    {
      "cell_type": "markdown",
      "metadata": {
        "id": "YQk9shm43b48"
      },
      "source": [
        "**Zadanie 1**\n",
        "\n",
        "Zapoznaj się z trybami operacyjnymi szyfrów blokowych symetrycznych, które są podlinkowane powyżej. Zwróć uwagę na następujące aspekty:\n",
        "\n",
        "1) Który tryb/które tryby są uznane za kryptograficznie niebezpieczne i dlaczego?\n",
        "\n",
        "2) Jak wygląda propagacja błędu w poszczególnych trybach w procesie szyfrowania i deszyfrowania?\n",
        "\n",
        "3) W których trybach można szyfrować równolegle, a w których można deszyfrować równolegle?\n",
        "\n",
        "4) Czy do procesu deszyfrowania jest zawsze potrzebny algorytm deszyfrowania?\n",
        "\n",
        "5) Który tryb jest najlepszy (wg Ciebie) i dlaczego?"
      ]
    },
    {
      "cell_type": "markdown",
      "metadata": {
        "id": "uOaP7KwX6MZZ"
      },
      "source": [
        "### Stałe i podstawowa notacja\n",
        "\n",
        "AES wszystkie operacje wykonuje na tablicy typu State, który teoretycznie jest macierzą bajtów 4x4:\n",
        "\n",
        "![image.png](data:image/png;base64,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)\n",
        "\n",
        "W praktyce jednak, 4 bajty to integer, dlatego State przechowuje się jako wektor czterech integerów. Zauważ, że z powyższego można wywnioskować iż rozmiar bloku w AES wynosi dokładnie 16B.\n",
        "\n",
        "Załóżmy, że mamy wiadomość do zaszyfrowania zadaną jako:\n",
        "\n",
        "M = 0xa1b1c1d1e1f1a2b2c2d2e2f2a3b3c3d3\n",
        "\n",
        "Jest to wiadomość równa rozmiarowi bloku i takimi będziemy się zajmować - a to dlatego, że AES jako taki nie defniuje metody paddingu. Można użyć od prostych po skomplikowane, ale nie jest to już część tego algorytmu. Wiadmość M umieszczamy bajt po bajcie w tablicy State **kolumnami**. A więc po \"włożeniu\" M do State otrzymamy:\n",
        "\n",
        "![image.png](data:image/png;base64,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)\n",
        "\n",
        "AES operuje w porządku *BigEndian*. W dalszej części laboratorium będziemy się odwoływać do State'a na dwa sposoby, przykłady poniżej:\n",
        "\n",
        "1) S[0][0] - to będzie najbardziej znaczący bajt pierwszego integera w tablicy, równy 0xa1. Kolejnym by był S[0][1] równy 0xb1 itd.\n",
        "\n",
        "2) S[0] - to będzie pierwszy z czterech integerów, czyli 0xa1b1c1d1. S[1] jest więc równy 0xe1f1a2b2 itd.\n"
      ]
    },
    {
      "cell_type": "markdown",
      "metadata": {
        "id": "hWu8Aoal-WEF"
      },
      "source": [
        "#### Stałe globalne\n",
        "\n",
        "W naszych laboratoriach posłużymy się następującym zestawem stałych (używanych zarówno w procesie szyfrowania jak i deszyfrowania):"
      ]
    },
    {
      "cell_type": "code",
      "execution_count": 256,
      "metadata": {
        "id": "J3lyg4gg7LFD"
      },
      "outputs": [],
      "source": [
        "Nb = 4\n",
        "Nk = 4\n",
        "Nr = 10\n",
        "\n",
        "Key = [0x00010203, 0x04050607, 0x08090a0b, 0x0c0d0e0f]\n",
        "\n",
        "Rcon = [0x01000000, 0x02000000, 0x04000000, 0x08000000, 0x10000000, 0x20000000,\n",
        "        0x40000000, 0x80000000, 0x1b000000, 0x36000000]\n",
        "\n",
        "State = [0x00112233, 0x44556677, 0x8899aabb, 0xccddeeff]"
      ]
    },
    {
      "cell_type": "markdown",
      "metadata": {
        "id": "bm4Hi_Ee-m8l"
      },
      "source": [
        "Oznaczają one po kolei:\n",
        "\n",
        "1) **Nb** - stała zawsze równa 4, ponieważ w tablicy State znajdują się 4 integery.\n",
        "\n",
        "2) **Nk** - stałą zależna od wersji algorytmu (czyli długości klucza). My skupimy się na AES-128, dlatego Nk = 4. Byłoby ono równe 6 dla klucza 192 bity oraz 8 dla klucza 256 bitów.\n",
        "\n",
        "3) **Nr** - liczba rund algorytmu, również zależna od długości klucza. Dla 128 bitów Nr = 10, dla 192 bitów Nr = 12, a gdy klucz ma 256 bitów Nr = 14. \n",
        "\n",
        "4) **key** - są to początkowe wartości klucza, które przekazujemy do algorytmu. W naszej wersji jest to dokładnie 16B, a więc wartość równa rozmiarowi bloku i State'a. Warto jednak zauważyć, że **key** będziemy traktowali jako listę, bo bedziemy do niego dodawać wartości. AES zawiera specjalny algorytm generowania kolejnych wartości klucza tak, aby w każdej rundzie używać kolejnych czterech różnych wartości. W tym algorytmie z kolei wykorzytywany jest wektor stałych **Rcon**. Więcej o tym w dalszej części laboratorium.\n",
        "\n",
        "5) **state** - to będzie nasz State w którym już umieściłem wiadomość do zaszyfrowania. "
      ]
    },
    {
      "cell_type": "markdown",
      "metadata": {
        "id": "h7hxDE3pA1b5"
      },
      "source": [
        "#### Stałe wykorzystywane w procesie szyfrowania\n",
        "\n",
        "Są to:"
      ]
    },
    {
      "cell_type": "code",
      "execution_count": 257,
      "metadata": {
        "id": "xzSq1BOxA9sF"
      },
      "outputs": [],
      "source": [
        "Sbox = (\n",
        "    0x63, 0x7C, 0x77, 0x7B, 0xF2, 0x6B, 0x6F, 0xC5, 0x30, 0x01, 0x67, 0x2B, 0xFE, 0xD7, 0xAB, 0x76,\n",
        "    0xCA, 0x82, 0xC9, 0x7D, 0xFA, 0x59, 0x47, 0xF0, 0xAD, 0xD4, 0xA2, 0xAF, 0x9C, 0xA4, 0x72, 0xC0,\n",
        "    0xB7, 0xFD, 0x93, 0x26, 0x36, 0x3F, 0xF7, 0xCC, 0x34, 0xA5, 0xE5, 0xF1, 0x71, 0xD8, 0x31, 0x15,\n",
        "    0x04, 0xC7, 0x23, 0xC3, 0x18, 0x96, 0x05, 0x9A, 0x07, 0x12, 0x80, 0xE2, 0xEB, 0x27, 0xB2, 0x75,\n",
        "    0x09, 0x83, 0x2C, 0x1A, 0x1B, 0x6E, 0x5A, 0xA0, 0x52, 0x3B, 0xD6, 0xB3, 0x29, 0xE3, 0x2F, 0x84,\n",
        "    0x53, 0xD1, 0x00, 0xED, 0x20, 0xFC, 0xB1, 0x5B, 0x6A, 0xCB, 0xBE, 0x39, 0x4A, 0x4C, 0x58, 0xCF,\n",
        "    0xD0, 0xEF, 0xAA, 0xFB, 0x43, 0x4D, 0x33, 0x85, 0x45, 0xF9, 0x02, 0x7F, 0x50, 0x3C, 0x9F, 0xA8,\n",
        "    0x51, 0xA3, 0x40, 0x8F, 0x92, 0x9D, 0x38, 0xF5, 0xBC, 0xB6, 0xDA, 0x21, 0x10, 0xFF, 0xF3, 0xD2,\n",
        "    0xCD, 0x0C, 0x13, 0xEC, 0x5F, 0x97, 0x44, 0x17, 0xC4, 0xA7, 0x7E, 0x3D, 0x64, 0x5D, 0x19, 0x73,\n",
        "    0x60, 0x81, 0x4F, 0xDC, 0x22, 0x2A, 0x90, 0x88, 0x46, 0xEE, 0xB8, 0x14, 0xDE, 0x5E, 0x0B, 0xDB,\n",
        "    0xE0, 0x32, 0x3A, 0x0A, 0x49, 0x06, 0x24, 0x5C, 0xC2, 0xD3, 0xAC, 0x62, 0x91, 0x95, 0xE4, 0x79,\n",
        "    0xE7, 0xC8, 0x37, 0x6D, 0x8D, 0xD5, 0x4E, 0xA9, 0x6C, 0x56, 0xF4, 0xEA, 0x65, 0x7A, 0xAE, 0x08,\n",
        "    0xBA, 0x78, 0x25, 0x2E, 0x1C, 0xA6, 0xB4, 0xC6, 0xE8, 0xDD, 0x74, 0x1F, 0x4B, 0xBD, 0x8B, 0x8A,\n",
        "    0x70, 0x3E, 0xB5, 0x66, 0x48, 0x03, 0xF6, 0x0E, 0x61, 0x35, 0x57, 0xB9, 0x86, 0xC1, 0x1D, 0x9E,\n",
        "    0xE1, 0xF8, 0x98, 0x11, 0x69, 0xD9, 0x8E, 0x94, 0x9B, 0x1E, 0x87, 0xE9, 0xCE, 0x55, 0x28, 0xDF,\n",
        "    0x8C, 0xA1, 0x89, 0x0D, 0xBF, 0xE6, 0x42, 0x68, 0x41, 0x99, 0x2D, 0x0F, 0xB0, 0x54, 0xBB, 0x16\n",
        ")\n",
        "\n",
        "mixingVars = [0x02030101, 0x01020301, 0x01010203, 0x03010102]"
      ]
    },
    {
      "cell_type": "markdown",
      "metadata": {
        "id": "RVxAE6nhBHuK"
      },
      "source": [
        "Używamy ich w poszczególnych funkcjach AES'a. Wyjaśnione w dalszej części laboratorium."
      ]
    },
    {
      "cell_type": "markdown",
      "metadata": {
        "id": "zjMFpfoWB7tu"
      },
      "source": [
        "#### Stałe wykorzystywane w procesie deszyfrowania\n",
        "\n",
        "Są to:"
      ]
    },
    {
      "cell_type": "code",
      "execution_count": 258,
      "metadata": {
        "id": "O2GP4mP_CAf4"
      },
      "outputs": [],
      "source": [
        "InvSbox = (\n",
        "    0x52, 0x09, 0x6A, 0xD5, 0x30, 0x36, 0xA5, 0x38, 0xBF, 0x40, 0xA3, 0x9E, 0x81, 0xF3, 0xD7, 0xFB,\n",
        "    0x7C, 0xE3, 0x39, 0x82, 0x9B, 0x2F, 0xFF, 0x87, 0x34, 0x8E, 0x43, 0x44, 0xC4, 0xDE, 0xE9, 0xCB,\n",
        "    0x54, 0x7B, 0x94, 0x32, 0xA6, 0xC2, 0x23, 0x3D, 0xEE, 0x4C, 0x95, 0x0B, 0x42, 0xFA, 0xC3, 0x4E,\n",
        "    0x08, 0x2E, 0xA1, 0x66, 0x28, 0xD9, 0x24, 0xB2, 0x76, 0x5B, 0xA2, 0x49, 0x6D, 0x8B, 0xD1, 0x25,\n",
        "    0x72, 0xF8, 0xF6, 0x64, 0x86, 0x68, 0x98, 0x16, 0xD4, 0xA4, 0x5C, 0xCC, 0x5D, 0x65, 0xB6, 0x92,\n",
        "    0x6C, 0x70, 0x48, 0x50, 0xFD, 0xED, 0xB9, 0xDA, 0x5E, 0x15, 0x46, 0x57, 0xA7, 0x8D, 0x9D, 0x84,\n",
        "    0x90, 0xD8, 0xAB, 0x00, 0x8C, 0xBC, 0xD3, 0x0A, 0xF7, 0xE4, 0x58, 0x05, 0xB8, 0xB3, 0x45, 0x06,\n",
        "    0xD0, 0x2C, 0x1E, 0x8F, 0xCA, 0x3F, 0x0F, 0x02, 0xC1, 0xAF, 0xBD, 0x03, 0x01, 0x13, 0x8A, 0x6B,\n",
        "    0x3A, 0x91, 0x11, 0x41, 0x4F, 0x67, 0xDC, 0xEA, 0x97, 0xF2, 0xCF, 0xCE, 0xF0, 0xB4, 0xE6, 0x73,\n",
        "    0x96, 0xAC, 0x74, 0x22, 0xE7, 0xAD, 0x35, 0x85, 0xE2, 0xF9, 0x37, 0xE8, 0x1C, 0x75, 0xDF, 0x6E,\n",
        "    0x47, 0xF1, 0x1A, 0x71, 0x1D, 0x29, 0xC5, 0x89, 0x6F, 0xB7, 0x62, 0x0E, 0xAA, 0x18, 0xBE, 0x1B,\n",
        "    0xFC, 0x56, 0x3E, 0x4B, 0xC6, 0xD2, 0x79, 0x20, 0x9A, 0xDB, 0xC0, 0xFE, 0x78, 0xCD, 0x5A, 0xF4,\n",
        "    0x1F, 0xDD, 0xA8, 0x33, 0x88, 0x07, 0xC7, 0x31, 0xB1, 0x12, 0x10, 0x59, 0x27, 0x80, 0xEC, 0x5F,\n",
        "    0x60, 0x51, 0x7F, 0xA9, 0x19, 0xB5, 0x4A, 0x0D, 0x2D, 0xE5, 0x7A, 0x9F, 0x93, 0xC9, 0x9C, 0xEF,\n",
        "    0xA0, 0xE0, 0x3B, 0x4D, 0xAE, 0x2A, 0xF5, 0xB0, 0xC8, 0xEB, 0xBB, 0x3C, 0x83, 0x53, 0x99, 0x61,\n",
        "    0x17, 0x2B, 0x04, 0x7E, 0xBA, 0x77, 0xD6, 0x26, 0xE1, 0x69, 0x14, 0x63, 0x55, 0x21, 0x0C, 0x7D,\n",
        ")\n",
        "\n",
        "invMixingVars = [0x0e0b0d09, 0x090e0b0d, 0x0d090e0b, 0x0b0d090e]"
      ]
    },
    {
      "cell_type": "markdown",
      "metadata": {
        "id": "e5huZ4nxCGUj"
      },
      "source": [
        "Podobnie jak w poprzednim przypadku, wyjaśnione w dalszej części laboratorium."
      ]
    },
    {
      "cell_type": "markdown",
      "metadata": {
        "id": "1oPjAMK-CnIs"
      },
      "source": [
        "### Funkcje wykorzystywane w AES\n",
        "\n",
        "Będziemy potrzebowali funkcji pomocniczych zwanych *rotWordLeft* i *rotWordRight*, które wykonują odpowiednio lewą i prawą rotację integera o *n* bitów.\n",
        "\n",
        "Będziemy także potrzebowali funkcji pomocniczej *transpo*, która dokonuje transpozycji State'a. Przypominam: transpozycja Oznacza, że wiersze stają się kolumnami (lub kolumny wierszami). Uwaga, po wykonaniu funkcji *transpo* State powinien być cały czas wektorem integerów tylko o odpowiednio zmienionych bajtach.\n",
        "\n",
        "**Zadanie 2**\n",
        "\n",
        "Uzupełnij kod poniższych metod. Dwie pierwsze mają rotować integera *tmp* o *n* bitów i zwracać zrotowaną wartość. Ostatnia ma dokonywać transpozycji State'a.\n",
        "\n"
      ]
    },
    {
      "cell_type": "code",
      "execution_count": 259,
      "metadata": {
        "id": "lPxcGis7EYRi"
      },
      "outputs": [],
      "source": [
        "def rotWordLeft(tmp, n):\n",
        "    binary = format(tmp, '32b').replace(' ', '0')\n",
        "    res = binary[n:] + binary[:n]\n",
        "    return int(res, 2)\n",
        "\n",
        "def rotWordRight(tmp, n):\n",
        "    binary = format(tmp, '32b').replace(' ', '0')\n",
        "    res = binary[-n:] + binary[:-n]\n",
        "    return int(res, 2)\n",
        "\n",
        "def transpo(state):\n",
        "    M = [val.to_bytes(Nb) for val in state]\n",
        "    new_state = []\n",
        "    for i in range(Nb):\n",
        "        v = 0\n",
        "        for j in range(Nb):\n",
        "            v *= 256\n",
        "            v += M[j][i]\n",
        "        new_state.append(v)\n",
        "    return new_state"
      ]
    },
    {
      "cell_type": "markdown",
      "metadata": {
        "id": "l4xWbM2FD0J1"
      },
      "source": [
        "Poniżej przedstawiam wszystkie funkcje, które będą nam potrzebne do napisania finalnego algorytmu szyfrowania i deszyfrowania. \n",
        "\n",
        "**NOTE:** W algorytmach rozpisanych w formie kroków pojawią się pętlę, które wykonujemy od-do *włączając w to ostatni element*. "
      ]
    },
    {
      "cell_type": "markdown",
      "metadata": {
        "id": "UwCDonXAHPRA"
      },
      "source": [
        "#### Funkcje 1: subWord'y\n",
        "\n",
        "Funkcje te zastępują poszczególne wartości bajtów ze State'a tymi z tablicy Sbox (lub invSbox). Dany bajt jest dzielony na dwie wartości po 4 bity, i te bardziej znaczące odpowiadają wierszowi w Sbox, a te 4 mniej znaczące - kolumnie.\n",
        "\n",
        "Przykład: niech State[0][0] = 0xa1. Nowa wartość będzie tą odpowiadającą wartości w dziesiątym wierszu i pierwszej kolumnie tablicy Sbox, czyli 0x32.\n",
        "\n",
        "Potrzebujemy razem cztery funkcje:\n",
        "- **subWords()**:\n",
        "\n",
        "1) Dla i = 0,...,3 wykonuj krok 2:\n",
        "\n",
        "2) State[i] = subWord(State[i]).\n",
        "\n",
        "- **subWord(tmp)**:\n",
        "\n",
        "1) Dla i = 0,...,3 wykonuj krok 2:\n",
        "\n",
        "2) tmp[i] = Sbox[tmp[i] >> 4][tmp[i] & 0x0F]\n",
        "\n",
        "3) zwróć tmp\n",
        "\n",
        "- **invSubWords()**:\n",
        "\n",
        "1) Dla i = 0,...,3 wykonuj krok 2:\n",
        "\n",
        "2) State[i] = invSubWord(State[i]).\n",
        "\n",
        "- **invSubWord(tmp)**:\n",
        "\n",
        "1) Dla i = 0,...,3 wykonuj krok 2:\n",
        "\n",
        "2) tmp[i] = invSbox[tmp[i] >> 4][tmp[i] & 0x0F]\n",
        "\n",
        "3) zwróć tmp\n",
        "\n",
        "Metody bez przedsrostka \"inv\" są używane w operacjach szyfrowania oraz rozszerzania klucza, a te z przedrostkiem \"inv\" w operacji deszyfrowania. Metoda *subWords* iteruje po integerach ze State'a, a metoda *subWord(tmp)* iteruje po bajtach itegera otrzymanego jako parametr i zwraca nowego integera. Metody \"inv\" analogicznie.\n",
        "\n"
      ]
    },
    {
      "cell_type": "markdown",
      "metadata": {
        "id": "Lq2CMWGELyeS"
      },
      "source": [
        "**Zadanie 3** \n",
        "\n",
        "Zaprogramuj wszystkie cztery powyższe metody."
      ]
    },
    {
      "cell_type": "code",
      "execution_count": 260,
      "metadata": {},
      "outputs": [],
      "source": [
        "def int_to_array(val):\n",
        "    return val.to_bytes(4)\n",
        "\n",
        "def array_to_int(arr):\n",
        "    val = 0\n",
        "    for v in arr:\n",
        "        val *= 256\n",
        "        val += v\n",
        "    return val"
      ]
    },
    {
      "cell_type": "code",
      "execution_count": 261,
      "metadata": {
        "id": "oVYJRKd6L6PW"
      },
      "outputs": [],
      "source": [
        "def subWords(state):\n",
        "    for i in range(Nb):\n",
        "        state[i] = subWord(state[i])\n",
        "    return state\n",
        "\n",
        "def subWord(tmp):\n",
        "    arr = int_to_array(tmp)\n",
        "    res = [None] * Nb\n",
        "    for i in range(Nb):\n",
        "        res[i] = Sbox[(arr[i] >> 4) * 16 + (arr[i] & 0x0F)]\n",
        "    return array_to_int(res)\n",
        "\n",
        "def invSubWords(state):\n",
        "    for i in range(Nb):\n",
        "        state[i] = invSubWord(state[i])\n",
        "    return state\n",
        "\n",
        "def invSubWord(tmp):\n",
        "    arr = int_to_array(tmp)\n",
        "    res = [None] * Nb\n",
        "    for i in range(Nb):\n",
        "        res[i] = InvSbox[(arr[i] >> 4) * 16 + (arr[i] & 0x0F)]\n",
        "    return array_to_int(res)"
      ]
    },
    {
      "cell_type": "markdown",
      "metadata": {
        "id": "BAOYdkO8Eh1d"
      },
      "source": [
        "#### Funkcja 2: expandKey()\n",
        "\n",
        "Jako parametr przyjmuje listę integerów *key* zadaną na początku algorytmu, a zwraca rozszerzoną listę integerów *key* zawierającą $(Nr + 1) * Nb$ integerów. Dlaczego tak? Zauważ, że mamy 10 rund i dla każdej potrzebujemy 4 różnych wartości klucza, to daje 40 integerów. Dodatkowo algorytm zakłada, nazwijmy to, rundę zerową, gdzie wykorzystuje te cztery wartości klucza zadane na początku, a więc końcowy rozmiar *key* to 44 integery (w naszym przypadku).\n",
        "\n",
        "Algorytm *expandKey()*:\n",
        "\n",
        "1) Dla i = Nk ... (Nr + 1) * Nb - 1 wykonuj kroki 2 - 7.\n",
        "\n",
        "2) Wykonaj: tmp = key[i - 1].\n",
        "\n",
        "3) Jeżeli i mod Nk = 0 wykonaj krok 4, w przeciwnym razie idź do kroku 5.\n",
        "\n",
        "4) tmp = rotWordLeft(subWord(tmp), 8) $⊕$ Rcon[⌊$\\frac{i}{Nk}⌋ -1 $].\n",
        "\n",
        "5) Jeżeli Nk > 6 oraz i mod Nk = 4 wykonaj krok 6, w przeciwnym razie wykonaj krok 7.\n",
        "\n",
        "6) tmp = subWord(tmp).\n",
        "\n",
        "7) key.append(key[i - Nk] $⊕$ tmp)."
      ]
    },
    {
      "cell_type": "markdown",
      "metadata": {
        "id": "aP0a5d2_Qls8"
      },
      "source": [
        "**Zadanie 4**\n",
        "\n",
        "Zaimplementuj powyższy algorytm."
      ]
    },
    {
      "cell_type": "code",
      "execution_count": 262,
      "metadata": {
        "id": "GP5Hvs_7PQnP"
      },
      "outputs": [],
      "source": [
        "def expandKey():\n",
        "    key = Key.copy()\n",
        "    for i in range(Nk, (Nr + 1) * Nb):\n",
        "        tmp = key[i-1]\n",
        "        if i % Nk == 0:\n",
        "            tmp = rotWordLeft(subWord(tmp), 8) ^ Rcon[i // Nk - 1]\n",
        "        if Nk > 6 and i % Nk == 4:\n",
        "            tmp = subWord(tmp)\n",
        "        key.append(key[i - Nk] ^ tmp)\n",
        "    return key"
      ]
    },
    {
      "cell_type": "markdown",
      "metadata": {
        "id": "_cfviee66AfP"
      },
      "source": [
        "#### Funkcja 3 - shiftRow'y\n",
        "\n",
        "Są stosunkowo proste, polegają na rotacji bajtów w integerach State'a. Rotacja zależy od indeksu integera w State'cie.\n",
        "\n",
        "Algorytm *shiftRows()*:\n",
        "\n",
        "1) Wywołaj transpo().\n",
        "\n",
        "2) Dla i = 0,...,3 wykonuj krok 3.\n",
        "\n",
        "3) State[i] = rotWordLeft(State[i], i * 8).\n",
        "\n",
        "4) Wywołaj transpo().\n",
        "\n",
        "Ten algorytm jest używany przy szyfrowaniu. Przy deszrowaniu używamy algorytmu *invShiftRows*, który jest identyczny jak ten powyżej z tą różnicą, że zamiast *rotWordLeft* wykorzystujemy *rotWordRight*."
      ]
    },
    {
      "cell_type": "markdown",
      "metadata": {
        "id": "-2VskdVZ7b83"
      },
      "source": [
        "**Zadanie 5**\n",
        "\n",
        "Zaimplementuj *shiftRows* i *invShiftRows*."
      ]
    },
    {
      "cell_type": "code",
      "execution_count": 263,
      "metadata": {
        "id": "OKfmVHI86Vk7"
      },
      "outputs": [],
      "source": [
        "def shiftRows(state):\n",
        "    state = transpo(state)\n",
        "    for i in range(Nb):\n",
        "        state[i] = rotWordLeft(state[i], i * 8)\n",
        "    return transpo(state)\n",
        "    \n",
        "def invShiftRows(state):\n",
        "    state = transpo(state)\n",
        "    for i in range(Nb):\n",
        "        state[i] = rotWordRight(state[i], i * 8)\n",
        "    return transpo(state)"
      ]
    },
    {
      "cell_type": "markdown",
      "metadata": {
        "id": "NDlhB1V37xE0"
      },
      "source": [
        "#### Funkcja 4 - addRoundKey\n",
        "\n",
        "Również mało skomplikowana. Wykonuje operację XOR pomiędzy integerami State'a a odpowiednimi integerami klucza. Jako parametr przyjmuje *roundKey*, czyli czteroelementową tablicę integerów, na którą składają się odpowiednie integery zaczerpnięte z listy *key*.\n",
        "\n",
        "Algorytm funkcji *addRoundKey(roundKey)*:\n",
        "\n",
        "1) Dla i = 0,...,3 wykonuj krok 2.\n",
        "\n",
        "2) State[i] = State[i] $⊕$ roundKey[i].\n",
        "\n",
        "Ta funkcja jest używana zarówno przy szyfrowaniu jak i deszyfrowaniu."
      ]
    },
    {
      "cell_type": "markdown",
      "metadata": {
        "id": "oTH_7HLK83PJ"
      },
      "source": [
        "**Zadanie 6**\n",
        "\n",
        "Zaimplementuj *addRoundKey*."
      ]
    },
    {
      "cell_type": "code",
      "execution_count": 264,
      "metadata": {
        "id": "2PaSN4JX9BFm"
      },
      "outputs": [],
      "source": [
        "def addRoundKey(roundKey, state):\n",
        "    for i in range(Nb):\n",
        "        state[i] = state[i] ^ roundKey[i]\n",
        "    return state"
      ]
    },
    {
      "cell_type": "markdown",
      "metadata": {
        "id": "akCJZQvU9Qa2"
      },
      "source": [
        "#### Funkcja 5 - mixColumn'y\n",
        "\n",
        "Najbardziej skomplikowana, choć pozornie niewinna. W tej funkcji State rozumiemy z powrotem jako dwuwymiarową tablicę bajtów. Cała operacja do wykonania to mnożenie macierzy: *mixingVars* (w przydaku deszyfrowania *invMixingVars*) z transponowanym Statem, a poźniej transpozycja wyniku. Dla operacji szyfrowania można to zapisać jako:\n",
        "\n",
        "$State = (mixingVars \\times State^T)^T$\n",
        "\n",
        "Algorytmu mnożenia macierzy nie będę rozpisywał, w razie potrzeby uzupełnił tą wiedzę samodzielnie. Jak widzisz będziemy tu mnożyli bajty i dodwali. Załóżmy, że mamy więc dwa bajty *a* i *b*. Operację $a + b$ wykonujemy jako $a \\oplus b$. Problem jest jednak z działaniem $a * b$. W tej funkcji wszystkie operacje wykonujemy w ciele Galoisa oznaczonym jako $GF(2^8)$. Tak naprawdę to stałe zapisane w *mixingVars* i *invMixingVars* stanowią współczynniki specjalnych wielomianów, które pozwalają nam wykonywać operację mnożenia modulo. Nie musimy rozważać całej matematyki za tym idącej, ale musimy wiedzieć, że mnożenie $a * b$ musimy rozpisać jako odpowiednią kombinację mnożeń $a * 0x02$ oraz $a * 0x01$.\n",
        "\n",
        "Dla mnożenia razy 0x01 jest łatwo, rozumiemy je tak jak w naszej algebrze, czyli $a * 0x01 = a$. Dla mnożenia razy 0x02 mamy specjalny algorytm. Nasz bajt $a$ można zapisać jako ciąg binarny: $a = [b_7, b_6, b_5, b_4, b_3, b_2, b_1, b_0]$, gdzie $b^7$ to bit najbardziej znaczący. \n",
        "\n",
        "Algorytm wyliczenia działania $a * 0x02$ jest następujący:\n",
        "\n",
        "1) Jeżeli $b^7 = 1$ to: a * 0x02 = (a << 1) $⊕$ 0x1b.\n",
        "\n",
        "2) W przeciwnym razie: a * 0x02 = a << 1.\n",
        "\n",
        "Spójrzmy więc na przykład: niech $a = 0xaa$, a $b = 0x09$. Działanie $a * b$ można rozpisać jako: $0xaa * 0x09 = 0xaa * (0x02 * 0x02 * 0x02 + 0x01) = 0xaa * 0x02 * 0x02 * 0x02 + 0xaa = 0x4f * 0x02 * 0x02 + 0xaa = 0x9e * 0x02 + 0xaa = 0x27 + 0xaa = 0x8d$."
      ]
    },
    {
      "cell_type": "markdown",
      "metadata": {
        "id": "N2LbHs4PDxgm"
      },
      "source": [
        "**Zadanie 7**\n",
        "\n",
        "Zaimplementuj funkcje *mixColumns* oraz *invMixColumns*.\n",
        "\n",
        "**NOTE:** w tym zadaniu wskazane jest utworzyć sobie funkcje pomocnicze, np. do mnożenia macierzy, mnożenia bajtów itp."
      ]
    },
    {
      "cell_type": "code",
      "execution_count": 265,
      "metadata": {},
      "outputs": [],
      "source": [
        "# ciało Galoisa\n",
        "def gadd(a, b):\n",
        "    return a ^ b\n",
        "\n",
        "def mul2(a):\n",
        "    if a >= 128:\n",
        "        a = (a << 1) ^ 0x1b\n",
        "    else:\n",
        "        a = a << 1\n",
        "    return a % 256\n",
        "\n",
        "def gmul(a, b):\n",
        "    if b == 0:\n",
        "        return 0\n",
        "    s = format(b, '8b').replace(' ', '0')\n",
        "    arr = []\n",
        "    for i, t in enumerate(s):\n",
        "        if t == '0':\n",
        "            continue\n",
        "        tmp = a\n",
        "        for _ in range(7-i):\n",
        "            tmp = mul2(tmp)\n",
        "        arr.append(tmp)\n",
        "    res = arr[0]\n",
        "    for i in range(1, len(arr)):\n",
        "        res = gadd(res, arr[i])\n",
        "    return res"
      ]
    },
    {
      "cell_type": "code",
      "execution_count": 266,
      "metadata": {
        "id": "6Eu-VgvjEQPZ"
      },
      "outputs": [],
      "source": [
        "def matrix_gmul(A, B):\n",
        "    A = [int_to_array(val) for val in A]\n",
        "    B = [int_to_array(val) for val in B]\n",
        "    res = [[None] * Nb for _ in range(Nb)]\n",
        "    for i in range(Nb):\n",
        "        for j in range(Nb):\n",
        "            val = 0\n",
        "            for k in range(Nb):\n",
        "                a = A[i][k]\n",
        "                b = B[k][j]\n",
        "                val = gadd(val, gmul(a, b))\n",
        "            res[i][j] = val\n",
        "    return [array_to_int(arr) for arr in res]\n",
        "\n",
        "def mixColumns(state):\n",
        "    return transpo(matrix_gmul(mixingVars, transpo(state)))\n",
        "    \n",
        "def invMixColumns(state):\n",
        "    return transpo(matrix_gmul(invMixingVars, transpo(state)))\n"
      ]
    },
    {
      "cell_type": "markdown",
      "metadata": {
        "id": "xjFfIMCcGsSD"
      },
      "source": [
        "### Algorytm szyfrowania AES\n",
        "\n",
        "1) expandKey().\n",
        "\n",
        "2) State = M (czyli zakoduj wiadomość do State'a - **ten krok mamy już wykonany**, wiadomość jest już w State'cie).\n",
        "\n",
        "3) addRoundKey(key[0,...,Nb - 1]).\n",
        "\n",
        "4) Dla i = 1,...,Nr - 1 wykonuj kroki 5-8.\n",
        "\n",
        "5) subWords().\n",
        "\n",
        "6) shiftRows().\n",
        "\n",
        "7) mixColumns().\n",
        "\n",
        "8) addRoundKey(key[i * Nb,...,(i + 1) * Nb - 1]).\n",
        "\n",
        "9) Po wyjściu z pętli wykonaj ponowanie kroki 5 i 6.\n",
        "\n",
        "10) addRoundKey(key[Nr * Nb,...,(Nr + 1) * Nb - 1]).\n",
        "\n",
        "Nasz State zawiera teraz kryptogram."
      ]
    },
    {
      "cell_type": "markdown",
      "metadata": {
        "id": "CYqMbioZI4rF"
      },
      "source": [
        "**Zadanie 8**\n",
        "\n",
        "Zaimpmenetuj algorytm szyfrowania AES."
      ]
    },
    {
      "cell_type": "code",
      "execution_count": 267,
      "metadata": {
        "id": "e5G-ueoMI-BA"
      },
      "outputs": [],
      "source": [
        "def encrypt(state):\n",
        "    key = expandKey()\n",
        "    state = addRoundKey(key, state)\n",
        "    for i in range(1, Nr):\n",
        "        state = subWords(state)\n",
        "        state = shiftRows(state)\n",
        "        state = mixColumns(state)\n",
        "        state = addRoundKey(key[i*Nb:], state)\n",
        "    state = subWords(state)\n",
        "    state = shiftRows(state)\n",
        "    state = addRoundKey(key[Nr*Nb:], state)\n",
        "    return state"
      ]
    },
    {
      "cell_type": "code",
      "execution_count": 268,
      "metadata": {},
      "outputs": [
        {
          "name": "stdout",
          "output_type": "stream",
          "text": [
            "['0x69c4e0d8', '0x6a7b0430', '0xd8cdb780', '0x70b4c55a']\n"
          ]
        }
      ],
      "source": [
        "encrypted = encrypt(State.copy())\n",
        "print([hex(word) for word in encrypted])"
      ]
    },
    {
      "cell_type": "markdown",
      "metadata": {
        "id": "irgflSFsJAB5"
      },
      "source": [
        "### Algorytm deszyfrowania AES\n",
        "\n",
        "1) expandKey() - (należy pominąć, zrobiliśmy to już przy szyfrowaniu. W praktyce jednak najczęściej AES'a używają dwie różne strony komunikacji).\n",
        "\n",
        "2) addRoundKey(key[Nr * Nb,...,(Nr + 1) * Nb - 1]).\n",
        "\n",
        "3) Dla i = Nr - 1,...,1 wykonuj kroki 4-7.\n",
        "\n",
        "4) invSubWords().\n",
        "\n",
        "5) invShiftRows().\n",
        "\n",
        "6) addRoundKey(key[i*Nb,...,(i + 1) * Nb - 1]).\n",
        "\n",
        "7) invMixColumns().\n",
        "\n",
        "8) Po wyjściu z pętli wykonaj kroki 4 i 5 jeszcze raz.\n",
        "\n",
        "9) addRoundKey(key[0,...,Nb - 1]).\n",
        "\n",
        "Teraz nasz State powinien przechowywać zdeszyfrowaną wiadomość."
      ]
    },
    {
      "cell_type": "markdown",
      "metadata": {
        "id": "UpGOoKlFKauS"
      },
      "source": [
        "**Zadanie 9**\n",
        "\n",
        "Zaimplementuj algorytm deszyfrowania AES."
      ]
    },
    {
      "cell_type": "code",
      "execution_count": 269,
      "metadata": {
        "id": "yUvLaO18KiS2"
      },
      "outputs": [],
      "source": [
        "def decrypt(state):\n",
        "    key = expandKey()\n",
        "    state = addRoundKey(key[Nr*Nb:], state)\n",
        "    for i in range(Nr-1, 0, -1):\n",
        "        state = invSubWords(state)\n",
        "        state = invShiftRows(state)\n",
        "        state = addRoundKey(key[i*Nb:], state)\n",
        "        state = invMixColumns(state)\n",
        "    state = invSubWords(state)\n",
        "    state = invShiftRows(state)\n",
        "    state = addRoundKey(key, state)\n",
        "    return state"
      ]
    },
    {
      "cell_type": "code",
      "execution_count": 270,
      "metadata": {},
      "outputs": [
        {
          "name": "stdout",
          "output_type": "stream",
          "text": [
            "['0x112233', '0x44556677', '0x8899aabb', '0xccddeeff']\n",
            "Success!\n"
          ]
        }
      ],
      "source": [
        "decrypted = decrypt(encrypted)\n",
        "print([hex(word) for word in decrypted])\n",
        "assert decrypted == State\n",
        "print(\"Success!\")"
      ]
    }
  ],
  "metadata": {
    "colab": {
      "provenance": []
    },
    "kernelspec": {
      "display_name": "Python 3",
      "name": "python3"
    },
    "language_info": {
      "codemirror_mode": {
        "name": "ipython",
        "version": 3
      },
      "file_extension": ".py",
      "mimetype": "text/x-python",
      "name": "python",
      "nbconvert_exporter": "python",
      "pygments_lexer": "ipython3",
      "version": "3.11.2"
    }
  },
  "nbformat": 4,
  "nbformat_minor": 0
}
