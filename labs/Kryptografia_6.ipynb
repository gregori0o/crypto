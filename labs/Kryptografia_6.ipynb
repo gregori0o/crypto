{
  "cells": [
    {
      "cell_type": "markdown",
      "metadata": {
        "id": "FMesaCnjoNh5"
      },
      "source": [
        "# Wstęp\n",
        "\n",
        "Poruszaliśmy już temat szyfrów symetrycznych blokowych i asymetrycznych, funkcji skrótu, podpisów cyfrowych, paddingowania, masek, krzywych elitpycznych i wiele pomniejszych. W tym laboratorium uzupełnimy wiedzę o pewne algorytmy uzupełniające. Będziemy więc mieli troszkę więcej, ale pomniejszych tematów."
      ]
    },
    {
      "cell_type": "markdown",
      "metadata": {
        "id": "rxBqy5a5pNnq"
      },
      "source": [
        "## Szyfr Vernama oraz Blum-Blum-Shub"
      ]
    },
    {
      "cell_type": "markdown",
      "metadata": {
        "id": "qzvHQ4RcpSd0"
      },
      "source": [
        "Szyfr Vernama jest szyfrem symetrycznym (co już zakładam wiesz co znaczy) oraz strumieniowym - czyli wiadomość jest szyfrowana jako całość. Musimy więc mieć klucz tak długi, jak wiadomość, którą chcemy zaszyfrować."
      ]
    },
    {
      "cell_type": "markdown",
      "metadata": {
        "id": "VEoJa4PipxtM"
      },
      "source": [
        "Szyfrowanie szyfrem Vernama:\n",
        "\n",
        "\\begin{equation}\n",
        "  C = M ⊕ K\n",
        "\\end{equation}\n",
        "\n",
        "Gdzie $K$ to tajny klucz o długości $M$, $M$ to wiadomość, natomiast $C$ kryptogram."
      ]
    },
    {
      "cell_type": "markdown",
      "metadata": {
        "id": "-jQcJlocqB5U"
      },
      "source": [
        "Deszyfrowanie szyfru Vernama:\n",
        "\n",
        "\\begin{equation}\n",
        "  M = C ⊕ K\n",
        "\\end{equation}\n",
        "\n",
        "Oznaczenia jak wyżej."
      ]
    },
    {
      "cell_type": "markdown",
      "metadata": {
        "id": "uSf7aI84qNNi"
      },
      "source": [
        "Czyli jak widzisz, sprawa jest bardzo prosta i opiera się na odwracalności operacji XOR. Pamiętaj, że dla dowolnych różnych słów binarnych A oraz B zachodzi $A = A ⊕ B ⊕ B$, choć rzecz jasna $A \\neq A ⊕ B$. To jest właśnie ta odwracalność. Do zastsowania szyfru Vernama jedyne więc czego potrzebujemy, to bezpiecznego, pseudolosowego klucza $K$. Tutaj można by też mówić, że wiadomość nie powinna być zbyt krótka itp. itd. - tym razem dla uproszczenia to pominiemy."
      ]
    },
    {
      "cell_type": "markdown",
      "metadata": {
        "id": "8ZASF6kprFSn"
      },
      "source": [
        "Do wygenerowania pseudoloswej wartości używamy..."
      ]
    },
    {
      "cell_type": "markdown",
      "metadata": {
        "id": "7nJkDnxsrLPy"
      },
      "source": [
        "..."
      ]
    },
    {
      "cell_type": "markdown",
      "metadata": {
        "id": "GSTg2z-ArNcD"
      },
      "source": [
        "..."
      ]
    },
    {
      "cell_type": "markdown",
      "metadata": {
        "id": "-DjO3J2ErOx8"
      },
      "source": [
        "..."
      ]
    },
    {
      "cell_type": "markdown",
      "metadata": {
        "id": "YZkvc41SrRD1"
      },
      "source": [
        "Tak jest! Generatora liczb pseudolosowych. Przykładem takiego generatora jest Blum-Blum-Shub. Jego zaletą jest to, że jest uznany za bezpieczny (pod pewnymi warunkami), dlatego może być używany nawet dziś. Jego wadą jest to, że jest wolny. Jest wolny dlatego, że w każdej iteracji algorytmu generuje on losowy **bit**, a więc trzeba iterować tyle razy, ile bitów potrzebujemy."
      ]
    },
    {
      "cell_type": "markdown",
      "metadata": {
        "id": "sibbFM1qrzOO"
      },
      "source": [
        "Blum-Blum-Shub PRNG\n",
        "\n",
        "1. Znajdź dwie, różne, losowe liczby pierwsze $p$ oraz $q$, ale takie, że: $p \\text{ mod } 4 = 3$ oraz $q \\text{ mod } 4 = 3$.\n",
        "2. Oblicz: $n = p * q$.\n",
        "3. Zainicjalizuj: $K = [empty]$.\n",
        "4. Znajdź losowe ziarno generatora $s$ (teoretycznie) z przedziału $[0, n - 1]$. Na potrzeby naszego laboratorium niech długość bitowa $s$ będzie równa przynajmniej $\\frac{1}{4}$ długości bitowej $n$.\n",
        "5. Oblicz: $x_1 = s^2 \\text{ mod } n$.\n",
        "6. Rozpocznij pętlę i wykonuj kroki 7 oraz 8 dokładnie tyle razy, ile bitów losowych potrzebujesz.\n",
        "7. Oblicz $x_t = x_{t - 1}^2 \\text{ mod } n$.\n",
        "8. Dopisz najmniej znaczący bit $x_t$ do klucza $K$."
      ]
    },
    {
      "cell_type": "code",
      "execution_count": 1,
      "metadata": {},
      "outputs": [
        {
          "name": "stdout",
          "output_type": "stream",
          "text": [
            "C=6611106962136789392085320330\n",
            "decrypted='Ala ma kota.'\n",
            "Success\n"
          ]
        }
      ],
      "source": [
        "from random import randint, shuffle\n",
        "import math\n",
        "import Crypto.Util.number as cu\n",
        "\n",
        "nlen = 2048\n",
        "\n",
        "\n",
        "def number_diff(a, b):\n",
        "    c = a ^ b\n",
        "    diff = 0\n",
        "    while c > 0:\n",
        "        diff += c % 2\n",
        "        c //=2\n",
        "    return diff\n",
        "\n",
        "def generate_numbers():\n",
        "    p = cu.getPrime(nlen//2)\n",
        "    while p % 4 != 3:\n",
        "        p = cu.getPrime(nlen//2)\n",
        "    q = cu.getPrime(nlen//2)\n",
        "    while q % 4 != 3:\n",
        "        q = cu.getPrime(nlen//2)\n",
        "    diff = number_diff(p, q)\n",
        "    if diff < 128:\n",
        "        return generate_numbers()\n",
        "    return p, q, p * q\n",
        "\n",
        "def blum_blum_shub(size):\n",
        "    p, q, n = generate_numbers()\n",
        "    K = 0\n",
        "    s = randint(pow(2, nlen//4), pow(2, nlen) - 1)\n",
        "    x = pow(s, 2, n)\n",
        "    for _ in range(size):\n",
        "        x = pow(x, 2, n)\n",
        "        K *= 2\n",
        "        K += x % 2\n",
        "    return K\n",
        "\n",
        "def encrypt(M):\n",
        "    M_bytes = M.encode(\"utf-8\")\n",
        "    size = len(M_bytes)\n",
        "    K = blum_blum_shub(size * 8)\n",
        "    M_int = int.from_bytes(M_bytes)\n",
        "    C = K ^ M_int\n",
        "    return C, K\n",
        "\n",
        "def decrypt(C, K):\n",
        "    M_int = C ^ K\n",
        "    size = cu.size(M_int)\n",
        "    M_bytes = M_int.to_bytes(size // 8 + 1)\n",
        "    return M_bytes.decode(\"utf-8\")\n",
        "\n",
        "message = \"Ala ma kota.\"\n",
        "C, K = encrypt(message)\n",
        "print(f\"{C=}\")\n",
        "decrypted = decrypt(C, K)\n",
        "print(f\"{decrypted=}\")\n",
        "\n",
        "assert decrypted == message\n",
        "print(\"Success\")"
      ]
    },
    {
      "cell_type": "markdown",
      "metadata": {
        "id": "8U3-FuMVwfaS"
      },
      "source": [
        "## GCD oraz Inverse Modulo\n",
        "\n",
        "Obie te funkcje przejwijały się dość często podczas naszych laboratoriów. Spójrzmy więc, jak je obliczyć."
      ]
    },
    {
      "cell_type": "markdown",
      "metadata": {
        "id": "yv5COvxiw0F7"
      },
      "source": [
        "## GCD\n",
        "\n",
        "GCD to inaczej największy wspólny dzielnik dwóch liczb. Efektywny algorytm znalezienia tej wartości wymyślił niejaki Euklides jakieś 300 lat p.n.e. Nie będę tego algorytmu rozpisywał w krokach, gdyż łatwiej jest go zaprezentować graficznie. Poniżej przykład dla GCD(22, 59):\n",
        "\n",
        "![image.png](data:image/png;base64,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)"
      ]
    },
    {
      "cell_type": "code",
      "execution_count": 56,
      "metadata": {},
      "outputs": [
        {
          "name": "stdout",
          "output_type": "stream",
          "text": [
            "GCD(22, 59)=1\n",
            "GCD(7, 15)=1\n",
            "GCD(49, 101)=1\n",
            "GCD(66, 123)=3\n"
          ]
        }
      ],
      "source": [
        "def GCD(a, b):\n",
        "    if a < 1 or b < 1:\n",
        "        raise ValueError()\n",
        "    while b > 0:\n",
        "        a, b = b, a % b\n",
        "    return a\n",
        "\n",
        "print(f\"{GCD(22, 59)=}\")\n",
        "print(f\"{GCD(7, 15)=}\")\n",
        "print(f\"{GCD(49, 101)=}\")\n",
        "print(f\"{GCD(66, 123)=}\")"
      ]
    },
    {
      "cell_type": "markdown",
      "metadata": {
        "id": "d8ClbdjXxrq5"
      },
      "source": [
        "## Invers Modulo"
      ]
    },
    {
      "cell_type": "markdown",
      "metadata": {
        "id": "km8KXwgtx8cR"
      },
      "source": [
        "Przypominijmy sobie, że inwersja modularna to inaczej rozwiązanie równania:\n",
        "\n",
        "\\begin{equation}\n",
        "  x = a^{-1} \\text{ mod } b\n",
        "\\end{equation}\n",
        "Gdzie wartości $a$ oraz $b$ są nam znane. Zagadnienie to okazuje się wcale nie takie trywialne.\n"
      ]
    },
    {
      "cell_type": "markdown",
      "metadata": {
        "id": "l2ECPeLfypWp"
      },
      "source": [
        "### Małe Twierdzenie Fermata\n",
        "\n",
        "Jeżeli $b$ **jest liczbą pierwszą**, to sprawa się upraszcza, gdyż Fermat udowodnił, że w takiej sytuacji dla każdej wartości $a$, wartość $a^{b} - a$ jest wielokrtonością $b$. Czyli inaczej mówiąc:\n",
        "\n",
        "\\begin{equation}\n",
        "  a^b = a \\text{ mod } b\n",
        "\\end{equation}\n",
        "\n",
        "A co za tym idzie:\n",
        "\n",
        "\\begin{align}\n",
        "  a^b &= a \\text{ mod } b \\text{ |:a } \\\\\n",
        "  a^{b - 1} &= 1 \\text{ mod } b \\text{ |:a } \\\\\n",
        "  a^{b - 2} &= a^{-1} \\text{ mod } b\n",
        "\\end{align}"
      ]
    },
    {
      "cell_type": "code",
      "execution_count": 57,
      "metadata": {},
      "outputs": [],
      "source": [
        "def fermat_inverse(a, b):\n",
        "    return pow(a, b-2, b)"
      ]
    },
    {
      "cell_type": "markdown",
      "metadata": {
        "id": "KEZiTC7F0hTG"
      },
      "source": [
        "## Rozszerzone Twierdzenie Euklidesa\n",
        "\n",
        "Jeżeli $b$ nie jest liczbą pierwszą, sprawy się nieco komplikują. Wciąż musimy pamiętać, że aby istniała inwersja modularna musi być spełniony warunek: $GCD(a,b) = 1$. Poza tym, z pomocą nam przychodzi Rozszerzony Algorytm Euklidesa. Znowu, najłatwiej go zrozumieć na przykładzie, więc spójrz jak by wyglądało znalezienie wartości $22^{-1} \\text{ mod } 59$: \n",
        "\n",
        "![image.png](data:image/png;base64,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)"
      ]
    },
    {
      "cell_type": "markdown",
      "metadata": {
        "id": "dTnkHYuI1jMZ"
      },
      "source": [
        "Jak nam to pomaga? Otóż wartość $GCD(a, b)$ można inaczej przedstawić jako: $GCD(a, b) = x * a + y * b$, gdzie $x$ oraz $y$ to liczby całkowite, a wartość $x \\text{ mod } b$ to jest nasze szukane rozwiązanie inwersji. Czyli dla powyższego przykładu można zapisać, że $GCD(22, 59) = 1 = 3 * 59 – 8 * 22 = (-8) * 22 + 3 * 59$. Nasz $x = -8$, a więc $x \\text{ mod } b = -8 \\text{ mod } 59 = 51$, i to jest nasz wynik."
      ]
    },
    {
      "cell_type": "markdown",
      "metadata": {
        "id": "rIFZ-Z3X3iFC"
      },
      "source": [
        "Ten algorytm w takiej formie oczywiście da się zaprogramować, ale wcale nie jest to aż tak trywialne. Problem polega na tym, że obliczamy w nim $x$ oraz $y$, a wartości $y$ wcale nie potrzebujemy. Stąd uproszczona wersja algorytmu, dedykowana do inwersji modularnej:\n",
        "\n",
        "![image.png](data:image/png;base64,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)"
      ]
    },
    {
      "cell_type": "markdown",
      "metadata": {
        "id": "nPmUuaJh4Nn5"
      },
      "source": [
        "Ta wersja pozwala nam de facto wykonywać klasyczną wersję algorytmu Euklidesa obliczając jednocześnie to, co nas interesuje z wersji rozszerzonej."
      ]
    },
    {
      "cell_type": "code",
      "execution_count": 58,
      "metadata": {},
      "outputs": [
        {
          "name": "stdout",
          "output_type": "stream",
          "text": [
            "fermat_inverse(22, 59)=51\n",
            "euclidean_inverse(7, 15)=13\n",
            "fermat_inverse(49, 101)=33\n",
            "euclidean_inverse(66, 123)=110\n"
          ]
        }
      ],
      "source": [
        "def euclidean_inverse(a, b):\n",
        "    if a < 1 or b < 1:\n",
        "        raise ValueError()\n",
        "    B = b\n",
        "    \n",
        "    q = []\n",
        "    a = a % b\n",
        "    while a > 0:\n",
        "        a, b, qi = b % a, a, b // a\n",
        "        q.append(qi)\n",
        "    \n",
        "    x0, x1 = 0, 1\n",
        "    for qi in q[:-1]:\n",
        "        x0, x1 = x1, (x0 - (qi * x1)) % B\n",
        "    return x1\n",
        "\n",
        "def inverse(a, b):\n",
        "    if cu.isPrime(b):\n",
        "        print(\"fermat_\", end=\"\")\n",
        "        return fermat_inverse(a, b)\n",
        "    print(\"euclidean_\", end=\"\")\n",
        "    return euclidean_inverse(a, b)\n",
        "\n",
        "print(f\"{inverse(22, 59)=}\")\n",
        "print(f\"{inverse(7, 15)=}\")\n",
        "print(f\"{inverse(49, 101)=}\")\n",
        "print(f\"{inverse(66, 123)=}\")"
      ]
    },
    {
      "cell_type": "markdown",
      "metadata": {
        "id": "kHUr5k-0m7dm"
      },
      "source": [
        "## Podpisy Schnorra\n",
        "\n"
      ]
    },
    {
      "cell_type": "markdown",
      "metadata": {
        "id": "aCZqov8krDe2"
      },
      "source": [
        "Podpisy Schnorra wyparły ECDSA np. w bitcoinie. Są bezpieczne, efektywne i szybkie - za wyjątkiem tworzeniem ich bazy, tj. grupy Schnorra."
      ]
    },
    {
      "cell_type": "markdown",
      "metadata": {
        "id": "e-RytwuJo3Gu"
      },
      "source": [
        "### Generowanie grupy Schnorra:\n",
        "\n",
        "1. Wygeneruj 2 liczby pierwsze: $p$ oraz $q$, a następnie wygeneruj liczbę naturalną $r$ taką, że $p = qr + 1$.\n",
        "2. Wyznacz losowe naturalne $h$ z przedziału $(1, p-1)$ spełniające warunek, że $h^r != 1 \\text{ mod } p$.\n",
        "3. Generatorem grupy Schnorra jest $g = h^r \\text{ mod } p$. Rząd $g$ wynosi $q$. Właśnie to jest duża zaleta, mimo wszystko łatwiej wygenerować grupę Schnorra niż np. krzywą eliptyczną. \n",
        "\n",
        "Dodatkowe warunki:\n",
        "1. $q$ ma $300$ bitów.\n",
        "2. $r$ ma mieć $2400$ bitów.\n",
        "3. $h$ ma mieć przynajmniej $128$ bitów.\n",
        "\n",
        "Problematyczny jest punkt numer 1, mamy kilka liczb, która mają spełniać określone warunki. Tym razem posłużymy się brute forcem, czyli będziemy losowali do skutku. Podpowiedź: zaczniij od losowania $q$ oraz $r$, $p$ jedynie obliczaj. Wyliczenie wszystkich parametrów może chwilę trwać, ale powinno zabierać nie więcej niż 3 minuty (podaję z zapasem). Jak je raz wyliczysz, możesz zahardkować aby nie czekać za każdym razem.\n"
      ]
    },
    {
      "cell_type": "code",
      "execution_count": 59,
      "metadata": {},
      "outputs": [],
      "source": [
        "# while True:\n",
        "#     q = cu.getPrime(300)\n",
        "#     r = cu.getRandomNBitInteger(2400)\n",
        "#     p = q * r + 1\n",
        "#     if cu.isPrime(p):\n",
        "#         print(f\"{p=}, {q=}, {r=}\")\n",
        "#         break"
      ]
    },
    {
      "cell_type": "code",
      "execution_count": 60,
      "metadata": {},
      "outputs": [],
      "source": [
        "p = 299582976233680524560267222584664167051709859159519411497248875231221657980968044093863134043180696808952419744286634530459057199237057816943075685951683283917669337114934808039384229094497982804103308672109976179324389284028752117048245063416370871126785956014490460410737543175740832647197947587307771580373395529806288694421525177419009829102814917103935527633037422086607137116935872069352639384434289568633935654829354001224790571835466318504292247896082410175300687533366513792054222413166377985211871811213411208143886972277883111022374038372127775155025188535406793745121632422536699275726575223567165319789132921404500654819958201015198579119106538046251037498810267555019206354600655231615060410067325580983516533440190536982207415226542226990788637653625089956711736399525031712205069455352275916869621\n",
        "q = 1273408039260881360740208685413932641922719094230989722202396217481206190443074215828638809\n",
        "r = 235260786014486100300170189118798309968248722820475671573153175043873275168799881245155592607171727134867769730655899711655744651970585632103181796932915169935401965648431424609941267011658244806522813504853646919835113097102786931605622825397206327181161300660527504561045808276698046569878008108917319183503995175122638304703910716053375417926498011979234025837038722922474240434552336748917425428565033909184807540389921577940839636828525581351905292474850965340300034670685243216106853626825305659989279171263910528627995142832444420869840772865583051552311938387465645753252412021251145512103933866228129949250653900158404527928676188557374509260190101553202804960971139732772181876578780705369552846923951194503676180"
      ]
    },
    {
      "cell_type": "code",
      "execution_count": 61,
      "metadata": {},
      "outputs": [],
      "source": [
        "def generate_schnorr_group():\n",
        "    g = 1\n",
        "    while g == 1:\n",
        "        h = cu.getRandomRange(pow(2, 128), p)\n",
        "        g = pow(h, r, p)\n",
        "    return g\n",
        "\n",
        "g = generate_schnorr_group()"
      ]
    },
    {
      "cell_type": "markdown",
      "metadata": {
        "id": "Vvd2yN1ppNYi"
      },
      "source": [
        "### Podpis Schnorra\n",
        "\n",
        "Wymaga uprzedniego utworzenia grupy Schnorra. Zapewnia nam dokładnie to, co każdy podpis cyfrowy. Niech $m$ oznacza bajty wiadomości, a $H$ funkcję skrótu SHA-256. Parametry grupy Schnorra które znamy to $g, p, q$.\n",
        "\n",
        "**Generowanie kluczy:**\n",
        "1. Wygeneruj losową liczbę naturalną $x$ z przedzdiału $(1, q - 1)$. Jest to klcuz prywatny.\n",
        "2. Oblicz $y = g^x \\text{ mod } p$. Jest to klcuz publiczny.\n",
        "\n",
        "**Sygnatura wiadomości:**\n",
        "1. Wygeneruj losową liczbę $r$ z przedziału $(1, q - 1)$.\n",
        "2. Oblicz $g' = g^r \\text{ mod } p$.\n",
        "3. Oblicz $c = H(m||g')$.\n",
        "4. Oblicz $s = (r - cx) \\text{ mod } q$.\n",
        "5. Zwróć parę $(s, c)$ jako podpis.\n",
        "\n",
        "**Weryfikacja sygnatury:**\n",
        "1. Oblicz $g' = (g^sy^c) \\text{ mod } p$.\n",
        "2. Oblicz $c' = H(m||g')$.\n",
        "3. Jeżeli $c = c'$ weryfikacja przebiegła prawidłowo, w przeciwnym razie zwróć błąd weryfikacji.\n",
        "\n",
        "\n",
        "Na nasze potrzeby niech $x$ oraz $r$ mają 128 bitów.\n",
        "\n"
      ]
    },
    {
      "cell_type": "code",
      "execution_count": 62,
      "metadata": {},
      "outputs": [],
      "source": [
        "import hashlib as hl\n",
        "\n",
        "n = 256\n",
        "\n",
        "def H(input: int | str) -> int:\n",
        "    if isinstance(input, int):\n",
        "        size = cu.size(input) // 8 + 1\n",
        "        mess = input.to_bytes(size)\n",
        "    elif isinstance(input, bytes):\n",
        "        mess = input\n",
        "    else:\n",
        "        mess = input.encode(\"utf-8\")\n",
        "    hash = hl.sha256(mess).digest()\n",
        "    return int.from_bytes(hash)"
      ]
    },
    {
      "cell_type": "code",
      "execution_count": 63,
      "metadata": {},
      "outputs": [],
      "source": [
        "def generate_keys_shnorr():\n",
        "    x = cu.getRandomRange(pow(2, 128), q)\n",
        "    y = pow(g, x, p)\n",
        "    return x, y\n",
        "\n",
        "def concat(mess, num):\n",
        "    size = cu.size(num) // 8 + 1\n",
        "    return mess.encode(\"utf-8\") + num.to_bytes(size)\n",
        "\n",
        "def sig_shnorr(m, key):\n",
        "    r = cu.getRandomRange(pow(2, 128), q)\n",
        "    g_prim = pow(g, r, p)\n",
        "    c = H(concat(m, g_prim))\n",
        "    s = (r - c * key) % q\n",
        "    return s, c\n",
        "\n",
        "def verify_shnorr(m, s, c, key):\n",
        "    g_prim = (pow(g, s, p) * pow(key, c, p)) % p\n",
        "    c_prim = H(concat(m, g_prim))\n",
        "    return c == c_prim"
      ]
    },
    {
      "cell_type": "code",
      "execution_count": 64,
      "metadata": {},
      "outputs": [
        {
          "name": "stdout",
          "output_type": "stream",
          "text": [
            "SIG = 774186027255595158201566083093135509212117978621553555211792739513738525510088162497812126\n"
          ]
        },
        {
          "data": {
            "text/plain": [
              "True"
            ]
          },
          "execution_count": 64,
          "metadata": {},
          "output_type": "execute_result"
        }
      ],
      "source": [
        "message = \"Ala ma podpis\"\n",
        "\n",
        "sk, pk  = generate_keys_shnorr()\n",
        "\n",
        "SIG, c = sig_shnorr(message, sk)\n",
        "print(f\"SIG = {SIG}\")\n",
        "\n",
        "verify_shnorr(message, SIG, c, pk)"
      ]
    },
    {
      "cell_type": "code",
      "execution_count": 65,
      "metadata": {},
      "outputs": [
        {
          "name": "stdout",
          "output_type": "stream",
          "text": [
            "SIG = 448123104969451772566576964117295195406422590321649466258107832512752556727358615498912692\n"
          ]
        },
        {
          "data": {
            "text/plain": [
              "False"
            ]
          },
          "execution_count": 65,
          "metadata": {},
          "output_type": "execute_result"
        }
      ],
      "source": [
        "message = \"Ala ma podpis\"\n",
        "\n",
        "sk, pk  = generate_keys_shnorr()\n",
        "\n",
        "SIG, c = sig_shnorr(message, sk)\n",
        "print(f\"SIG = {SIG}\")\n",
        "\n",
        "verify_shnorr(\"Ala nie ma podpisu\", SIG, c, pk)"
      ]
    },
    {
      "cell_type": "code",
      "execution_count": 66,
      "metadata": {},
      "outputs": [
        {
          "name": "stdout",
          "output_type": "stream",
          "text": [
            "SIG = 1227440004481365302320726130730404825985088297308373081376777947416060979559166094408048655\n"
          ]
        },
        {
          "data": {
            "text/plain": [
              "False"
            ]
          },
          "execution_count": 66,
          "metadata": {},
          "output_type": "execute_result"
        }
      ],
      "source": [
        "message = \"Ala ma podpis\"\n",
        "\n",
        "sk, pk  = generate_keys_shnorr()\n",
        "\n",
        "SIG, c = sig_shnorr(message, sk)\n",
        "print(f\"SIG = {SIG}\")\n",
        "\n",
        "verify_shnorr(message, SIG, c + 1, pk)"
      ]
    },
    {
      "cell_type": "markdown",
      "metadata": {
        "id": "bl_Wl1JF2OaF"
      },
      "source": [
        "## Ślepy podpis Schnorra\n",
        "\n",
        "Czasami jest tak, że podpisujący ma nie wiedzieć co podpisuje. To znaczy, że twórca wiadomości i podpisujący to dwie różne instancje. Wówczas przydaje się tzw. algorytm ślepego podpisu. Zobaczmy jak wygląda. Wszystkie strony komunikacji znają $g, p, q$. Klucze $x$ oraz $y$ generowane są **tak samo jak w algorytmie podpisu Schnorra**.\n",
        "\n",
        "**Faza 1 (podpisujący):**\n",
        "1. Wygeneruj losową liczbę naturalną $r$ z przedziału $(1, q - 1 )$.\n",
        "2. Oblicz $t' = g^r \\text{ mod } p$.\n",
        "3. Przekaż $t'$ **autorowi wiadomości**.\n",
        "\n",
        "**Faza 2 (autor wiadomości):**\n",
        "1. Wygeneruj losową liczbę $\\gamma$ z przedziału $(1, q - 1)$.\n",
        "2. Wygeneruj losową liczbę $\\delta$ z przedziału $(1, q - 1)$.\n",
        "3. Oblicz $t = (g^{\\gamma}y^{\\delta}t') \\text{ mod } p$.\n",
        "4. Oblicz $c = H(m||t)$.\n",
        "5. Oblicz $c' = (c - \\delta) \\text{ mod } q$.\n",
        "6. Przekaż $c'$ **podpisującemu**.\n",
        "\n",
        "**Faza 3 (podpisujący):**\n",
        "1. Oblicz $s' = (r - c'x) \\text{ mod } q$.\n",
        "2. Przekaż $s'$ **autorowi wiadomości**.\n",
        "\n",
        "**Faza 4 (autor):**\n",
        "1. Oblicz $s = (s' + \\gamma) \\text{ mod } q$. Podpis stanowi para $(s, c)$, która jest wysyłana weryfikującemu.\n",
        "\n",
        "**Faza 5 (weryfikujący):**\n",
        "1. Oblicz $g' = (g^sy^c) \\text{ mod } p$.\n",
        "2. Oblicz $c' = H(m||g')$.\n",
        "3. Jeżeli $c = c'$, weryfikacja przebiegła pomyślnie. W przeciwnym razie zwróć błąd weryfikacji.\n",
        "\n",
        "\n",
        "Na nasze potrzeby niech $x$, $r$, $\\gamma$ oraz $\\delta$ mają 128 bitów. Uważaj, gdzie liczymy modulo $p$, a gdzie modulo $q$."
      ]
    },
    {
      "cell_type": "code",
      "execution_count": 73,
      "metadata": {},
      "outputs": [],
      "source": [
        "x, y = generate_keys_shnorr()"
      ]
    },
    {
      "cell_type": "code",
      "execution_count": 74,
      "metadata": {},
      "outputs": [],
      "source": [
        "# Faza 1\n",
        "r = cu.getRandomRange(pow(2, 128), q)\n",
        "t_prim = pow(g, r, p)\n",
        "\n",
        "# return t_prim"
      ]
    },
    {
      "cell_type": "code",
      "execution_count": 75,
      "metadata": {},
      "outputs": [],
      "source": [
        "# Faza 2\n",
        "message = \"Ala ma podpis\"\n",
        "\n",
        "gamma = cu.getRandomRange(pow(2, 128), q)\n",
        "delta = cu.getRandomRange(pow(2, 128), q)\n",
        "t = (pow(g, gamma, p) * pow(y, delta, p) * t_prim) % p\n",
        "c = H(concat(message, t))\n",
        "c_prim = (c - delta) % q\n",
        "\n",
        "# return c_prim\n"
      ]
    },
    {
      "cell_type": "code",
      "execution_count": 76,
      "metadata": {},
      "outputs": [],
      "source": [
        "# Faza 3\n",
        "s_prim = (r - c_prim * x) % q\n",
        "\n",
        "# return s_prim"
      ]
    },
    {
      "cell_type": "code",
      "execution_count": 77,
      "metadata": {},
      "outputs": [],
      "source": [
        "# Faza 4\n",
        "s = (s_prim + gamma) % q\n",
        "\n",
        "# return s, c"
      ]
    },
    {
      "cell_type": "code",
      "execution_count": 78,
      "metadata": {},
      "outputs": [
        {
          "name": "stdout",
          "output_type": "stream",
          "text": [
            "Verified\n"
          ]
        }
      ],
      "source": [
        "# Faza 5\n",
        "g_prim = (pow(g, s, p) * pow(y, c, p)) % p\n",
        "c_prim = H(concat(message, g_prim))\n",
        "\n",
        "assert c == c_prim\n",
        "print(\"Verified\")"
      ]
    },
    {
      "cell_type": "markdown",
      "metadata": {
        "id": "cIykTX1xt0-Z"
      },
      "source": [
        "## Zadania\n",
        "\n",
        "1. Napisz szyfrowanie oraz deszyfrowanie Vernama. Klucz generuj z wykorzystaniem PRNG Blum-Blum-Shub. Niech $n$ ma 2048 bitów oraz niech $p$ i $q$ różnią się o przynajmniej 128 bitów, ale nie więcej niż 256. Tę różnicę losuj, a nie hardkoduj.\n",
        "\n",
        "2. Zaimplementuj algorytm Euklidesa i oblicz:  GCD(22, 59), GCD(7, 15), GCD(49, 101) and GCD(66, 123).\n",
        "\n",
        "3. Zaimplementuj rozszerzony Algorytm Euklidesa (w uproszczonej wersji) oraz Małe Twierdzenie Fermata, a następnie z wykorzystaniem obu (tam gdzie się da) oblicz: $22^{-1} \\text{ mod } 59$, $7^{-1} \\text{ mod } 15$, $49^{-1} \\text{ mod } 101$, $66^{-1} \\text{ mod } 123$. \n",
        "\n",
        "4. Zaimplementuj generowanie grupy Schnorra, podpis Schnorra oraz ślepy podpis Schnorra. Zaprezentuj działanie algorytmów dla dowolnej wiadomości."
      ]
    }
  ],
  "metadata": {
    "colab": {
      "provenance": []
    },
    "kernelspec": {
      "display_name": "Python 3",
      "name": "python3"
    },
    "language_info": {
      "codemirror_mode": {
        "name": "ipython",
        "version": 3
      },
      "file_extension": ".py",
      "mimetype": "text/x-python",
      "name": "python",
      "nbconvert_exporter": "python",
      "pygments_lexer": "ipython3",
      "version": "3.11.2"
    }
  },
  "nbformat": 4,
  "nbformat_minor": 0
}
